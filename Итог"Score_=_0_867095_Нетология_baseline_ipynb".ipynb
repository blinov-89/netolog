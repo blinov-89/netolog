{
  "cells": [
    {
      "cell_type": "markdown",
      "metadata": {
        "id": "view-in-github",
        "colab_type": "text"
      },
      "source": [
        "<a href=\"https://colab.research.google.com/github/blinov-89/netolog/blob/main/%D0%98%D1%82%D0%BE%D0%B3%22Score_%3D_0_867095_%D0%9D%D0%B5%D1%82%D0%BE%D0%BB%D0%BE%D0%B3%D0%B8%D1%8F_baseline_ipynb%22.ipynb\" target=\"_parent\"><img src=\"https://colab.research.google.com/assets/colab-badge.svg\" alt=\"Open In Colab\"/></a>"
      ]
    },
    {
      "cell_type": "markdown",
      "source": [
        "Модель прогнозирования выбора образовательных курсов пользователями"
      ],
      "metadata": {
        "id": "r-sa0chpokKR"
      }
    },
    {
      "cell_type": "markdown",
      "metadata": {
        "id": "qb_ajqWXuguV"
      },
      "source": [
        "## Загрузим нужные библиотеки"
      ]
    },
    {
      "cell_type": "code",
      "execution_count": 1,
      "metadata": {
        "id": "XvB_92aerQfb"
      },
      "outputs": [],
      "source": [
        "import xgboost as xgb\n",
        "from sklearn.datasets import load_boston\n",
        "from sklearn.model_selection import train_test_split\n",
        "from sklearn.model_selection import cross_val_score, KFold\n",
        "from sklearn.metrics import mean_squared_error\n",
        "import matplotlib.pyplot as plt "
      ]
    },
    {
      "cell_type": "code",
      "execution_count": 2,
      "metadata": {
        "id": "MTgpe_1quUDs"
      },
      "outputs": [],
      "source": [
        "import pandas as pd\n",
        "import seaborn as sns\n",
        "import matplotlib.pyplot as plt\n",
        "from sklearn.model_selection import train_test_split\n",
        "from sklearn.ensemble import RandomForestClassifier\n",
        "from sklearn import tree\n",
        "import numpy as np\n",
        "from sklearn.metrics import recall_score, precision_score\n",
        "\n",
        "%matplotlib inline"
      ]
    },
    {
      "cell_type": "code",
      "execution_count": 3,
      "metadata": {
        "id": "G6A6HXB4CXnJ"
      },
      "outputs": [],
      "source": [
        " from scipy import stats\n",
        " from scipy.stats import randint\n",
        " from sklearn.model_selection import RandomizedSearchCV\n",
        " from sklearn.metrics import precision_score,recall_score,accuracy_score,f1_score,roc_auc_score"
      ]
    },
    {
      "cell_type": "code",
      "source": [
        "from sklearn.model_selection import cross_val_score, StratifiedKFold, GridSearchCV"
      ],
      "metadata": {
        "id": "PO9h2a9w4hSw"
      },
      "execution_count": 4,
      "outputs": []
    },
    {
      "cell_type": "code",
      "execution_count": 5,
      "metadata": {
        "id": "9uRi4lPfDB4J"
      },
      "outputs": [],
      "source": [
        "from sklearn.ensemble import RandomForestClassifier\n",
        "from sklearn.model_selection import GridSearchCV"
      ]
    },
    {
      "cell_type": "code",
      "execution_count": 6,
      "metadata": {
        "colab": {
          "base_uri": "https://localhost:8080/"
        },
        "id": "Ox7BM_ScPZKA",
        "outputId": "1dd6b65e-ae96-4297-a0bf-b92484719b83"
      },
      "outputs": [
        {
          "output_type": "stream",
          "name": "stdout",
          "text": [
            "Mounted at /content/drive\n"
          ]
        }
      ],
      "source": [
        "from google.colab import drive\n",
        "drive.mount('/content/drive')"
      ]
    },
    {
      "cell_type": "markdown",
      "metadata": {
        "id": "GgCS5B_PutbW"
      },
      "source": [
        "## Рассмотрим датасет по ближе"
      ]
    },
    {
      "cell_type": "code",
      "execution_count": 7,
      "metadata": {
        "id": "o9N4JbcWudk2"
      },
      "outputs": [],
      "source": [
        "df = pd.read_csv(\"/content/drive/MyDrive/Оренбург ИИ/train_dataset_train (2).csv\")"
      ]
    },
    {
      "cell_type": "code",
      "execution_count": 8,
      "metadata": {
        "id": "tn5ZXzcomADK"
      },
      "outputs": [],
      "source": [
        "# pip install pandas_profiling"
      ]
    },
    {
      "cell_type": "code",
      "execution_count": 9,
      "metadata": {
        "id": "gsn-WOsemBO0"
      },
      "outputs": [],
      "source": [
        "# import pandas as pd\n",
        "# import pandas_profiling"
      ]
    },
    {
      "cell_type": "code",
      "execution_count": 10,
      "metadata": {
        "id": "3kRbWJzRmDxM"
      },
      "outputs": [],
      "source": [
        "# pd.read_csv('/content/drive/MyDrive/Оренбург ИИ/train_dataset_train (2).csv').profile_report()"
      ]
    },
    {
      "cell_type": "code",
      "execution_count": 11,
      "metadata": {
        "colab": {
          "base_uri": "https://localhost:8080/",
          "height": 0
        },
        "id": "qEvfySMMutBR",
        "outputId": "f44bb5a5-c962-4823-ac45-a5ed75e2abb1"
      },
      "outputs": [
        {
          "output_type": "execute_result",
          "data": {
            "text/plain": [
              "      id  age_indicator   month_id  student_id  program_id carts_created_at  \\\n",
              "0  15182           32.0  9/30/2020     6694527        1469        8/26/2020   \n",
              "1  89385            NaN  6/30/2021     6712877        1392         8/5/2020   \n",
              "2  47931            NaN  2/28/2021     6659444         376        6/20/2020   \n",
              "\n",
              "   spent_time_total  spent_time_to_complete_hw  completed_hw  failed_hw  ...  \\\n",
              "0             163.0                        0.0           1.0        0.0  ...   \n",
              "1               NaN                        NaN           NaN        NaN  ...   \n",
              "2               NaN                        NaN           NaN        NaN  ...   \n",
              "\n",
              "   p_total_calls  p_was_conversations  p_total_duration  support_feedback_avg  \\\n",
              "0            NaN                  NaN               NaN                   4.0   \n",
              "1            NaN                  NaN               NaN                   NaN   \n",
              "2            NaN                  NaN               NaN                   NaN   \n",
              "\n",
              "   feedback_avg_d1  feedback_avg_d2  feedback_avg_d3  feedback_avg_d4  \\\n",
              "0              5.0              NaN              NaN              NaN   \n",
              "1              NaN              NaN              NaN              NaN   \n",
              "2              NaN              NaN              NaN              NaN   \n",
              "\n",
              "   feedback_avg_d5  target  \n",
              "0              NaN       0  \n",
              "1              NaN       0  \n",
              "2              NaN       0  \n",
              "\n",
              "[3 rows x 59 columns]"
            ],
            "text/html": [
              "\n",
              "  <div id=\"df-317059ac-db14-412f-a18c-0b093e08ab86\">\n",
              "    <div class=\"colab-df-container\">\n",
              "      <div>\n",
              "<style scoped>\n",
              "    .dataframe tbody tr th:only-of-type {\n",
              "        vertical-align: middle;\n",
              "    }\n",
              "\n",
              "    .dataframe tbody tr th {\n",
              "        vertical-align: top;\n",
              "    }\n",
              "\n",
              "    .dataframe thead th {\n",
              "        text-align: right;\n",
              "    }\n",
              "</style>\n",
              "<table border=\"1\" class=\"dataframe\">\n",
              "  <thead>\n",
              "    <tr style=\"text-align: right;\">\n",
              "      <th></th>\n",
              "      <th>id</th>\n",
              "      <th>age_indicator</th>\n",
              "      <th>month_id</th>\n",
              "      <th>student_id</th>\n",
              "      <th>program_id</th>\n",
              "      <th>carts_created_at</th>\n",
              "      <th>spent_time_total</th>\n",
              "      <th>spent_time_to_complete_hw</th>\n",
              "      <th>completed_hw</th>\n",
              "      <th>failed_hw</th>\n",
              "      <th>...</th>\n",
              "      <th>p_total_calls</th>\n",
              "      <th>p_was_conversations</th>\n",
              "      <th>p_total_duration</th>\n",
              "      <th>support_feedback_avg</th>\n",
              "      <th>feedback_avg_d1</th>\n",
              "      <th>feedback_avg_d2</th>\n",
              "      <th>feedback_avg_d3</th>\n",
              "      <th>feedback_avg_d4</th>\n",
              "      <th>feedback_avg_d5</th>\n",
              "      <th>target</th>\n",
              "    </tr>\n",
              "  </thead>\n",
              "  <tbody>\n",
              "    <tr>\n",
              "      <th>0</th>\n",
              "      <td>15182</td>\n",
              "      <td>32.0</td>\n",
              "      <td>9/30/2020</td>\n",
              "      <td>6694527</td>\n",
              "      <td>1469</td>\n",
              "      <td>8/26/2020</td>\n",
              "      <td>163.0</td>\n",
              "      <td>0.0</td>\n",
              "      <td>1.0</td>\n",
              "      <td>0.0</td>\n",
              "      <td>...</td>\n",
              "      <td>NaN</td>\n",
              "      <td>NaN</td>\n",
              "      <td>NaN</td>\n",
              "      <td>4.0</td>\n",
              "      <td>5.0</td>\n",
              "      <td>NaN</td>\n",
              "      <td>NaN</td>\n",
              "      <td>NaN</td>\n",
              "      <td>NaN</td>\n",
              "      <td>0</td>\n",
              "    </tr>\n",
              "    <tr>\n",
              "      <th>1</th>\n",
              "      <td>89385</td>\n",
              "      <td>NaN</td>\n",
              "      <td>6/30/2021</td>\n",
              "      <td>6712877</td>\n",
              "      <td>1392</td>\n",
              "      <td>8/5/2020</td>\n",
              "      <td>NaN</td>\n",
              "      <td>NaN</td>\n",
              "      <td>NaN</td>\n",
              "      <td>NaN</td>\n",
              "      <td>...</td>\n",
              "      <td>NaN</td>\n",
              "      <td>NaN</td>\n",
              "      <td>NaN</td>\n",
              "      <td>NaN</td>\n",
              "      <td>NaN</td>\n",
              "      <td>NaN</td>\n",
              "      <td>NaN</td>\n",
              "      <td>NaN</td>\n",
              "      <td>NaN</td>\n",
              "      <td>0</td>\n",
              "    </tr>\n",
              "    <tr>\n",
              "      <th>2</th>\n",
              "      <td>47931</td>\n",
              "      <td>NaN</td>\n",
              "      <td>2/28/2021</td>\n",
              "      <td>6659444</td>\n",
              "      <td>376</td>\n",
              "      <td>6/20/2020</td>\n",
              "      <td>NaN</td>\n",
              "      <td>NaN</td>\n",
              "      <td>NaN</td>\n",
              "      <td>NaN</td>\n",
              "      <td>...</td>\n",
              "      <td>NaN</td>\n",
              "      <td>NaN</td>\n",
              "      <td>NaN</td>\n",
              "      <td>NaN</td>\n",
              "      <td>NaN</td>\n",
              "      <td>NaN</td>\n",
              "      <td>NaN</td>\n",
              "      <td>NaN</td>\n",
              "      <td>NaN</td>\n",
              "      <td>0</td>\n",
              "    </tr>\n",
              "  </tbody>\n",
              "</table>\n",
              "<p>3 rows × 59 columns</p>\n",
              "</div>\n",
              "      <button class=\"colab-df-convert\" onclick=\"convertToInteractive('df-317059ac-db14-412f-a18c-0b093e08ab86')\"\n",
              "              title=\"Convert this dataframe to an interactive table.\"\n",
              "              style=\"display:none;\">\n",
              "        \n",
              "  <svg xmlns=\"http://www.w3.org/2000/svg\" height=\"24px\"viewBox=\"0 0 24 24\"\n",
              "       width=\"24px\">\n",
              "    <path d=\"M0 0h24v24H0V0z\" fill=\"none\"/>\n",
              "    <path d=\"M18.56 5.44l.94 2.06.94-2.06 2.06-.94-2.06-.94-.94-2.06-.94 2.06-2.06.94zm-11 1L8.5 8.5l.94-2.06 2.06-.94-2.06-.94L8.5 2.5l-.94 2.06-2.06.94zm10 10l.94 2.06.94-2.06 2.06-.94-2.06-.94-.94-2.06-.94 2.06-2.06.94z\"/><path d=\"M17.41 7.96l-1.37-1.37c-.4-.4-.92-.59-1.43-.59-.52 0-1.04.2-1.43.59L10.3 9.45l-7.72 7.72c-.78.78-.78 2.05 0 2.83L4 21.41c.39.39.9.59 1.41.59.51 0 1.02-.2 1.41-.59l7.78-7.78 2.81-2.81c.8-.78.8-2.07 0-2.86zM5.41 20L4 18.59l7.72-7.72 1.47 1.35L5.41 20z\"/>\n",
              "  </svg>\n",
              "      </button>\n",
              "      \n",
              "  <style>\n",
              "    .colab-df-container {\n",
              "      display:flex;\n",
              "      flex-wrap:wrap;\n",
              "      gap: 12px;\n",
              "    }\n",
              "\n",
              "    .colab-df-convert {\n",
              "      background-color: #E8F0FE;\n",
              "      border: none;\n",
              "      border-radius: 50%;\n",
              "      cursor: pointer;\n",
              "      display: none;\n",
              "      fill: #1967D2;\n",
              "      height: 32px;\n",
              "      padding: 0 0 0 0;\n",
              "      width: 32px;\n",
              "    }\n",
              "\n",
              "    .colab-df-convert:hover {\n",
              "      background-color: #E2EBFA;\n",
              "      box-shadow: 0px 1px 2px rgba(60, 64, 67, 0.3), 0px 1px 3px 1px rgba(60, 64, 67, 0.15);\n",
              "      fill: #174EA6;\n",
              "    }\n",
              "\n",
              "    [theme=dark] .colab-df-convert {\n",
              "      background-color: #3B4455;\n",
              "      fill: #D2E3FC;\n",
              "    }\n",
              "\n",
              "    [theme=dark] .colab-df-convert:hover {\n",
              "      background-color: #434B5C;\n",
              "      box-shadow: 0px 1px 3px 1px rgba(0, 0, 0, 0.15);\n",
              "      filter: drop-shadow(0px 1px 2px rgba(0, 0, 0, 0.3));\n",
              "      fill: #FFFFFF;\n",
              "    }\n",
              "  </style>\n",
              "\n",
              "      <script>\n",
              "        const buttonEl =\n",
              "          document.querySelector('#df-317059ac-db14-412f-a18c-0b093e08ab86 button.colab-df-convert');\n",
              "        buttonEl.style.display =\n",
              "          google.colab.kernel.accessAllowed ? 'block' : 'none';\n",
              "\n",
              "        async function convertToInteractive(key) {\n",
              "          const element = document.querySelector('#df-317059ac-db14-412f-a18c-0b093e08ab86');\n",
              "          const dataTable =\n",
              "            await google.colab.kernel.invokeFunction('convertToInteractive',\n",
              "                                                     [key], {});\n",
              "          if (!dataTable) return;\n",
              "\n",
              "          const docLinkHtml = 'Like what you see? Visit the ' +\n",
              "            '<a target=\"_blank\" href=https://colab.research.google.com/notebooks/data_table.ipynb>data table notebook</a>'\n",
              "            + ' to learn more about interactive tables.';\n",
              "          element.innerHTML = '';\n",
              "          dataTable['output_type'] = 'display_data';\n",
              "          await google.colab.output.renderOutput(dataTable, element);\n",
              "          const docLink = document.createElement('div');\n",
              "          docLink.innerHTML = docLinkHtml;\n",
              "          element.appendChild(docLink);\n",
              "        }\n",
              "      </script>\n",
              "    </div>\n",
              "  </div>\n",
              "  "
            ]
          },
          "metadata": {},
          "execution_count": 11
        }
      ],
      "source": [
        "df.head(3)"
      ]
    },
    {
      "cell_type": "code",
      "execution_count": 12,
      "metadata": {
        "colab": {
          "base_uri": "https://localhost:8080/"
        },
        "id": "DfQqkXCOueeM",
        "outputId": "413769a0-2573-4550-cb9a-db58caffab63"
      },
      "outputs": [
        {
          "output_type": "execute_result",
          "data": {
            "text/plain": [
              "(200000, 59)"
            ]
          },
          "metadata": {},
          "execution_count": 12
        }
      ],
      "source": [
        "df.shape"
      ]
    },
    {
      "cell_type": "code",
      "execution_count": 13,
      "metadata": {
        "colab": {
          "base_uri": "https://localhost:8080/"
        },
        "id": "c2uwHOc1xfjs",
        "outputId": "440c2edb-a87b-48ba-b3e8-2417137e62b6"
      },
      "outputs": [
        {
          "output_type": "execute_result",
          "data": {
            "text/plain": [
              "id                                0\n",
              "age_indicator                 40877\n",
              "month_id                          0\n",
              "student_id                        0\n",
              "program_id                        0\n",
              "carts_created_at                  0\n",
              "spent_time_total             113691\n",
              "spent_time_to_complete_hw    157533\n",
              "completed_hw                 102401\n",
              "failed_hw                    102401\n",
              "reworked_hw                  102401\n",
              "interacted_hw                102401\n",
              "avg_hw_mark                  155504\n",
              "test_with_good_mark          102401\n",
              "test_with_great_mark         102401\n",
              "webinars                     102401\n",
              "avg_quiz_result              183741\n",
              "notes                        102401\n",
              "hw_leader                    102401\n",
              "lessons                      102401\n",
              "activity                     102401\n",
              "bought_d1                         0\n",
              "bought_d2                         0\n",
              "bought_d3                         0\n",
              "bought_d4                         0\n",
              "bought_d5                         0\n",
              "bought_avg_duration          189641\n",
              "payment_type                      0\n",
              "promo                             0\n",
              "price                             0\n",
              "communication_type             1405\n",
              "auto_payment                      0\n",
              "ABC                               0\n",
              "city                         186408\n",
              "country                      187056\n",
              "gender                           60\n",
              "speed_recall                 178120\n",
              "os                           122626\n",
              "browser                      122626\n",
              "platform                     122639\n",
              "m_avg_talk_duration          148463\n",
              "m_avg_duration               154236\n",
              "m_missed_calls               148463\n",
              "m_total_calls                148463\n",
              "m_was_conversations          148463\n",
              "m_total_duration             148463\n",
              "p_avg_talk_duration          183547\n",
              "p_avg_duration               186512\n",
              "p_missed_calls               183547\n",
              "p_total_calls                183547\n",
              "p_was_conversations          183547\n",
              "p_total_duration             183547\n",
              "support_feedback_avg         162443\n",
              "feedback_avg_d1              151504\n",
              "feedback_avg_d2              185195\n",
              "feedback_avg_d3              182222\n",
              "feedback_avg_d4              174924\n",
              "feedback_avg_d5              184267\n",
              "target                            0\n",
              "dtype: int64"
            ]
          },
          "metadata": {},
          "execution_count": 13
        }
      ],
      "source": [
        "df.isnull().sum()"
      ]
    },
    {
      "cell_type": "code",
      "execution_count": 14,
      "metadata": {
        "colab": {
          "base_uri": "https://localhost:8080/"
        },
        "id": "NUHy7c-tuegn",
        "outputId": "ec16784a-34b6-480f-f0a9-0d8452c9ffe0"
      },
      "outputs": [
        {
          "output_type": "stream",
          "name": "stdout",
          "text": [
            "<class 'pandas.core.frame.DataFrame'>\n",
            "RangeIndex: 200000 entries, 0 to 199999\n",
            "Data columns (total 59 columns):\n",
            " #   Column                     Non-Null Count   Dtype  \n",
            "---  ------                     --------------   -----  \n",
            " 0   id                         200000 non-null  int64  \n",
            " 1   age_indicator              159123 non-null  float64\n",
            " 2   month_id                   200000 non-null  object \n",
            " 3   student_id                 200000 non-null  int64  \n",
            " 4   program_id                 200000 non-null  int64  \n",
            " 5   carts_created_at           200000 non-null  object \n",
            " 6   spent_time_total           86309 non-null   float64\n",
            " 7   spent_time_to_complete_hw  42467 non-null   float64\n",
            " 8   completed_hw               97599 non-null   float64\n",
            " 9   failed_hw                  97599 non-null   float64\n",
            " 10  reworked_hw                97599 non-null   float64\n",
            " 11  interacted_hw              97599 non-null   float64\n",
            " 12  avg_hw_mark                44496 non-null   float64\n",
            " 13  test_with_good_mark        97599 non-null   float64\n",
            " 14  test_with_great_mark       97599 non-null   float64\n",
            " 15  webinars                   97599 non-null   float64\n",
            " 16  avg_quiz_result            16259 non-null   float64\n",
            " 17  notes                      97599 non-null   float64\n",
            " 18  hw_leader                  97599 non-null   float64\n",
            " 19  lessons                    97599 non-null   float64\n",
            " 20  activity                   97599 non-null   float64\n",
            " 21  bought_d1                  200000 non-null  int64  \n",
            " 22  bought_d2                  200000 non-null  int64  \n",
            " 23  bought_d3                  200000 non-null  int64  \n",
            " 24  bought_d4                  200000 non-null  int64  \n",
            " 25  bought_d5                  200000 non-null  int64  \n",
            " 26  bought_avg_duration        10359 non-null   float64\n",
            " 27  payment_type               200000 non-null  int64  \n",
            " 28  promo                      200000 non-null  object \n",
            " 29  price                      200000 non-null  float64\n",
            " 30  communication_type         198595 non-null  object \n",
            " 31  auto_payment               200000 non-null  int64  \n",
            " 32  ABC                        200000 non-null  object \n",
            " 33  city                       13592 non-null   object \n",
            " 34  country                    12944 non-null   object \n",
            " 35  gender                     199940 non-null  float64\n",
            " 36  speed_recall               21880 non-null   float64\n",
            " 37  os                         77374 non-null   object \n",
            " 38  browser                    77374 non-null   object \n",
            " 39  platform                   77361 non-null   object \n",
            " 40  m_avg_talk_duration        51537 non-null   float64\n",
            " 41  m_avg_duration             45764 non-null   float64\n",
            " 42  m_missed_calls             51537 non-null   float64\n",
            " 43  m_total_calls              51537 non-null   float64\n",
            " 44  m_was_conversations        51537 non-null   float64\n",
            " 45  m_total_duration           51537 non-null   float64\n",
            " 46  p_avg_talk_duration        16453 non-null   float64\n",
            " 47  p_avg_duration             13488 non-null   float64\n",
            " 48  p_missed_calls             16453 non-null   float64\n",
            " 49  p_total_calls              16453 non-null   float64\n",
            " 50  p_was_conversations        16453 non-null   float64\n",
            " 51  p_total_duration           16453 non-null   float64\n",
            " 52  support_feedback_avg       37557 non-null   float64\n",
            " 53  feedback_avg_d1            48496 non-null   float64\n",
            " 54  feedback_avg_d2            14805 non-null   float64\n",
            " 55  feedback_avg_d3            17778 non-null   float64\n",
            " 56  feedback_avg_d4            25076 non-null   float64\n",
            " 57  feedback_avg_d5            15733 non-null   float64\n",
            " 58  target                     200000 non-null  int64  \n",
            "dtypes: float64(38), int64(11), object(10)\n",
            "memory usage: 90.0+ MB\n"
          ]
        }
      ],
      "source": [
        "df.info()"
      ]
    },
    {
      "cell_type": "code",
      "execution_count": 15,
      "metadata": {
        "id": "T57jhLeUnWF0"
      },
      "outputs": [],
      "source": [
        "df['age_indicator'] = df['age_indicator'].fillna((df['age_indicator'].median()))"
      ]
    },
    {
      "cell_type": "code",
      "execution_count": 16,
      "metadata": {
        "colab": {
          "base_uri": "https://localhost:8080/"
        },
        "id": "SYagvxCanhGa",
        "outputId": "aecc196e-23e1-4ece-bf56-7ae83682eeaa"
      },
      "outputs": [
        {
          "output_type": "execute_result",
          "data": {
            "text/plain": [
              "0.0    87636\n",
              "1.0    69315\n",
              "2.0    42989\n",
              "Name: gender, dtype: int64"
            ]
          },
          "metadata": {},
          "execution_count": 16
        }
      ],
      "source": [
        "df['gender'].value_counts()"
      ]
    },
    {
      "cell_type": "code",
      "execution_count": 17,
      "metadata": {
        "id": "Sj_hgnn6n_NJ"
      },
      "outputs": [],
      "source": [
        "df[\"gender\"].fillna(0, inplace = True)"
      ]
    },
    {
      "cell_type": "code",
      "execution_count": 18,
      "metadata": {
        "colab": {
          "base_uri": "https://localhost:8080/",
          "height": 0
        },
        "id": "KkCU7ZDohJ8f",
        "outputId": "edabf72c-0250-46d2-dd13-feeb73f98bce"
      },
      "outputs": [
        {
          "output_type": "execute_result",
          "data": {
            "text/plain": [
              "                  id  age_indicator    student_id     program_id  \\\n",
              "count  200000.000000  200000.000000  2.000000e+05  200000.000000   \n",
              "mean   142407.631250      20.320590  6.671167e+06     962.271990   \n",
              "std     82262.564288      10.260861  8.868178e+05     546.947217   \n",
              "min         1.000000       1.000000  4.920000e+02      12.000000   \n",
              "25%     71190.750000      13.000000  6.652468e+06     490.000000   \n",
              "50%    142332.500000      20.000000  6.814122e+06     916.000000   \n",
              "75%    213600.500000      28.000000  7.049847e+06    1360.000000   \n",
              "max    284995.000000      40.000000  8.010481e+06    2714.000000   \n",
              "\n",
              "       spent_time_total  spent_time_to_complete_hw  completed_hw  \\\n",
              "count      86309.000000               42467.000000  97599.000000   \n",
              "mean          77.865344                  -0.000024      1.335106   \n",
              "std          115.236108                   0.004853      1.979112   \n",
              "min            0.000000                  -1.000000      0.000000   \n",
              "25%            9.000000                   0.000000      0.000000   \n",
              "50%           38.000000                   0.000000      0.000000   \n",
              "75%           97.000000                   0.000000      2.000000   \n",
              "max         1979.000000                   0.000000     34.000000   \n",
              "\n",
              "          failed_hw   reworked_hw  interacted_hw  ...  p_total_calls  \\\n",
              "count  97599.000000  97599.000000   97599.000000  ...   16453.000000   \n",
              "mean       0.023330      5.859230       3.439267  ...       2.081383   \n",
              "std        0.657045     16.102704       2.053506  ...       3.126983   \n",
              "min        0.000000      0.000000       2.000000  ...       1.000000   \n",
              "25%        0.000000      0.000000       2.000000  ...       1.000000   \n",
              "50%        0.000000      0.000000       2.000000  ...       1.000000   \n",
              "75%        0.000000      0.000000       4.000000  ...       2.000000   \n",
              "max       41.000000    721.000000      38.000000  ...      63.000000   \n",
              "\n",
              "       p_was_conversations  p_total_duration  support_feedback_avg  \\\n",
              "count         16453.000000      16453.000000          37557.000000   \n",
              "mean              1.266213         49.400290              4.837408   \n",
              "std               1.208457         48.028241              0.506014   \n",
              "min               0.000000          0.000000              0.943000   \n",
              "25%               1.000000          9.000000              4.715000   \n",
              "50%               1.000000         44.000000              5.000000   \n",
              "75%               2.000000         70.000000              5.000000   \n",
              "max              28.000000        395.000000              5.000000   \n",
              "\n",
              "       feedback_avg_d1  feedback_avg_d2  feedback_avg_d3  feedback_avg_d4  \\\n",
              "count     48496.000000     14805.000000     17778.000000     25076.000000   \n",
              "mean          4.507259         4.320306         4.464710         4.490328   \n",
              "std           0.649541         0.791206         0.711231         0.665097   \n",
              "min           0.943000         0.943000         0.943000         0.943000   \n",
              "25%           4.142857         4.000000         4.086333         4.149200   \n",
              "50%           4.715000         4.567568         4.715000         4.715000   \n",
              "75%           5.000000         5.000000         5.000000         5.000000   \n",
              "max           5.000000         5.000000         5.000000         5.000000   \n",
              "\n",
              "       feedback_avg_d5         target  \n",
              "count     15733.000000  200000.000000  \n",
              "mean          4.430035       0.296325  \n",
              "std           0.762329       0.951263  \n",
              "min           0.943000       0.000000  \n",
              "25%           4.000000       0.000000  \n",
              "50%           4.715000       0.000000  \n",
              "75%           5.000000       0.000000  \n",
              "max           5.000000       5.000000  \n",
              "\n",
              "[8 rows x 49 columns]"
            ],
            "text/html": [
              "\n",
              "  <div id=\"df-fb183b49-ea04-4480-8e8e-367258fb7b35\">\n",
              "    <div class=\"colab-df-container\">\n",
              "      <div>\n",
              "<style scoped>\n",
              "    .dataframe tbody tr th:only-of-type {\n",
              "        vertical-align: middle;\n",
              "    }\n",
              "\n",
              "    .dataframe tbody tr th {\n",
              "        vertical-align: top;\n",
              "    }\n",
              "\n",
              "    .dataframe thead th {\n",
              "        text-align: right;\n",
              "    }\n",
              "</style>\n",
              "<table border=\"1\" class=\"dataframe\">\n",
              "  <thead>\n",
              "    <tr style=\"text-align: right;\">\n",
              "      <th></th>\n",
              "      <th>id</th>\n",
              "      <th>age_indicator</th>\n",
              "      <th>student_id</th>\n",
              "      <th>program_id</th>\n",
              "      <th>spent_time_total</th>\n",
              "      <th>spent_time_to_complete_hw</th>\n",
              "      <th>completed_hw</th>\n",
              "      <th>failed_hw</th>\n",
              "      <th>reworked_hw</th>\n",
              "      <th>interacted_hw</th>\n",
              "      <th>...</th>\n",
              "      <th>p_total_calls</th>\n",
              "      <th>p_was_conversations</th>\n",
              "      <th>p_total_duration</th>\n",
              "      <th>support_feedback_avg</th>\n",
              "      <th>feedback_avg_d1</th>\n",
              "      <th>feedback_avg_d2</th>\n",
              "      <th>feedback_avg_d3</th>\n",
              "      <th>feedback_avg_d4</th>\n",
              "      <th>feedback_avg_d5</th>\n",
              "      <th>target</th>\n",
              "    </tr>\n",
              "  </thead>\n",
              "  <tbody>\n",
              "    <tr>\n",
              "      <th>count</th>\n",
              "      <td>200000.000000</td>\n",
              "      <td>200000.000000</td>\n",
              "      <td>2.000000e+05</td>\n",
              "      <td>200000.000000</td>\n",
              "      <td>86309.000000</td>\n",
              "      <td>42467.000000</td>\n",
              "      <td>97599.000000</td>\n",
              "      <td>97599.000000</td>\n",
              "      <td>97599.000000</td>\n",
              "      <td>97599.000000</td>\n",
              "      <td>...</td>\n",
              "      <td>16453.000000</td>\n",
              "      <td>16453.000000</td>\n",
              "      <td>16453.000000</td>\n",
              "      <td>37557.000000</td>\n",
              "      <td>48496.000000</td>\n",
              "      <td>14805.000000</td>\n",
              "      <td>17778.000000</td>\n",
              "      <td>25076.000000</td>\n",
              "      <td>15733.000000</td>\n",
              "      <td>200000.000000</td>\n",
              "    </tr>\n",
              "    <tr>\n",
              "      <th>mean</th>\n",
              "      <td>142407.631250</td>\n",
              "      <td>20.320590</td>\n",
              "      <td>6.671167e+06</td>\n",
              "      <td>962.271990</td>\n",
              "      <td>77.865344</td>\n",
              "      <td>-0.000024</td>\n",
              "      <td>1.335106</td>\n",
              "      <td>0.023330</td>\n",
              "      <td>5.859230</td>\n",
              "      <td>3.439267</td>\n",
              "      <td>...</td>\n",
              "      <td>2.081383</td>\n",
              "      <td>1.266213</td>\n",
              "      <td>49.400290</td>\n",
              "      <td>4.837408</td>\n",
              "      <td>4.507259</td>\n",
              "      <td>4.320306</td>\n",
              "      <td>4.464710</td>\n",
              "      <td>4.490328</td>\n",
              "      <td>4.430035</td>\n",
              "      <td>0.296325</td>\n",
              "    </tr>\n",
              "    <tr>\n",
              "      <th>std</th>\n",
              "      <td>82262.564288</td>\n",
              "      <td>10.260861</td>\n",
              "      <td>8.868178e+05</td>\n",
              "      <td>546.947217</td>\n",
              "      <td>115.236108</td>\n",
              "      <td>0.004853</td>\n",
              "      <td>1.979112</td>\n",
              "      <td>0.657045</td>\n",
              "      <td>16.102704</td>\n",
              "      <td>2.053506</td>\n",
              "      <td>...</td>\n",
              "      <td>3.126983</td>\n",
              "      <td>1.208457</td>\n",
              "      <td>48.028241</td>\n",
              "      <td>0.506014</td>\n",
              "      <td>0.649541</td>\n",
              "      <td>0.791206</td>\n",
              "      <td>0.711231</td>\n",
              "      <td>0.665097</td>\n",
              "      <td>0.762329</td>\n",
              "      <td>0.951263</td>\n",
              "    </tr>\n",
              "    <tr>\n",
              "      <th>min</th>\n",
              "      <td>1.000000</td>\n",
              "      <td>1.000000</td>\n",
              "      <td>4.920000e+02</td>\n",
              "      <td>12.000000</td>\n",
              "      <td>0.000000</td>\n",
              "      <td>-1.000000</td>\n",
              "      <td>0.000000</td>\n",
              "      <td>0.000000</td>\n",
              "      <td>0.000000</td>\n",
              "      <td>2.000000</td>\n",
              "      <td>...</td>\n",
              "      <td>1.000000</td>\n",
              "      <td>0.000000</td>\n",
              "      <td>0.000000</td>\n",
              "      <td>0.943000</td>\n",
              "      <td>0.943000</td>\n",
              "      <td>0.943000</td>\n",
              "      <td>0.943000</td>\n",
              "      <td>0.943000</td>\n",
              "      <td>0.943000</td>\n",
              "      <td>0.000000</td>\n",
              "    </tr>\n",
              "    <tr>\n",
              "      <th>25%</th>\n",
              "      <td>71190.750000</td>\n",
              "      <td>13.000000</td>\n",
              "      <td>6.652468e+06</td>\n",
              "      <td>490.000000</td>\n",
              "      <td>9.000000</td>\n",
              "      <td>0.000000</td>\n",
              "      <td>0.000000</td>\n",
              "      <td>0.000000</td>\n",
              "      <td>0.000000</td>\n",
              "      <td>2.000000</td>\n",
              "      <td>...</td>\n",
              "      <td>1.000000</td>\n",
              "      <td>1.000000</td>\n",
              "      <td>9.000000</td>\n",
              "      <td>4.715000</td>\n",
              "      <td>4.142857</td>\n",
              "      <td>4.000000</td>\n",
              "      <td>4.086333</td>\n",
              "      <td>4.149200</td>\n",
              "      <td>4.000000</td>\n",
              "      <td>0.000000</td>\n",
              "    </tr>\n",
              "    <tr>\n",
              "      <th>50%</th>\n",
              "      <td>142332.500000</td>\n",
              "      <td>20.000000</td>\n",
              "      <td>6.814122e+06</td>\n",
              "      <td>916.000000</td>\n",
              "      <td>38.000000</td>\n",
              "      <td>0.000000</td>\n",
              "      <td>0.000000</td>\n",
              "      <td>0.000000</td>\n",
              "      <td>0.000000</td>\n",
              "      <td>2.000000</td>\n",
              "      <td>...</td>\n",
              "      <td>1.000000</td>\n",
              "      <td>1.000000</td>\n",
              "      <td>44.000000</td>\n",
              "      <td>5.000000</td>\n",
              "      <td>4.715000</td>\n",
              "      <td>4.567568</td>\n",
              "      <td>4.715000</td>\n",
              "      <td>4.715000</td>\n",
              "      <td>4.715000</td>\n",
              "      <td>0.000000</td>\n",
              "    </tr>\n",
              "    <tr>\n",
              "      <th>75%</th>\n",
              "      <td>213600.500000</td>\n",
              "      <td>28.000000</td>\n",
              "      <td>7.049847e+06</td>\n",
              "      <td>1360.000000</td>\n",
              "      <td>97.000000</td>\n",
              "      <td>0.000000</td>\n",
              "      <td>2.000000</td>\n",
              "      <td>0.000000</td>\n",
              "      <td>0.000000</td>\n",
              "      <td>4.000000</td>\n",
              "      <td>...</td>\n",
              "      <td>2.000000</td>\n",
              "      <td>2.000000</td>\n",
              "      <td>70.000000</td>\n",
              "      <td>5.000000</td>\n",
              "      <td>5.000000</td>\n",
              "      <td>5.000000</td>\n",
              "      <td>5.000000</td>\n",
              "      <td>5.000000</td>\n",
              "      <td>5.000000</td>\n",
              "      <td>0.000000</td>\n",
              "    </tr>\n",
              "    <tr>\n",
              "      <th>max</th>\n",
              "      <td>284995.000000</td>\n",
              "      <td>40.000000</td>\n",
              "      <td>8.010481e+06</td>\n",
              "      <td>2714.000000</td>\n",
              "      <td>1979.000000</td>\n",
              "      <td>0.000000</td>\n",
              "      <td>34.000000</td>\n",
              "      <td>41.000000</td>\n",
              "      <td>721.000000</td>\n",
              "      <td>38.000000</td>\n",
              "      <td>...</td>\n",
              "      <td>63.000000</td>\n",
              "      <td>28.000000</td>\n",
              "      <td>395.000000</td>\n",
              "      <td>5.000000</td>\n",
              "      <td>5.000000</td>\n",
              "      <td>5.000000</td>\n",
              "      <td>5.000000</td>\n",
              "      <td>5.000000</td>\n",
              "      <td>5.000000</td>\n",
              "      <td>5.000000</td>\n",
              "    </tr>\n",
              "  </tbody>\n",
              "</table>\n",
              "<p>8 rows × 49 columns</p>\n",
              "</div>\n",
              "      <button class=\"colab-df-convert\" onclick=\"convertToInteractive('df-fb183b49-ea04-4480-8e8e-367258fb7b35')\"\n",
              "              title=\"Convert this dataframe to an interactive table.\"\n",
              "              style=\"display:none;\">\n",
              "        \n",
              "  <svg xmlns=\"http://www.w3.org/2000/svg\" height=\"24px\"viewBox=\"0 0 24 24\"\n",
              "       width=\"24px\">\n",
              "    <path d=\"M0 0h24v24H0V0z\" fill=\"none\"/>\n",
              "    <path d=\"M18.56 5.44l.94 2.06.94-2.06 2.06-.94-2.06-.94-.94-2.06-.94 2.06-2.06.94zm-11 1L8.5 8.5l.94-2.06 2.06-.94-2.06-.94L8.5 2.5l-.94 2.06-2.06.94zm10 10l.94 2.06.94-2.06 2.06-.94-2.06-.94-.94-2.06-.94 2.06-2.06.94z\"/><path d=\"M17.41 7.96l-1.37-1.37c-.4-.4-.92-.59-1.43-.59-.52 0-1.04.2-1.43.59L10.3 9.45l-7.72 7.72c-.78.78-.78 2.05 0 2.83L4 21.41c.39.39.9.59 1.41.59.51 0 1.02-.2 1.41-.59l7.78-7.78 2.81-2.81c.8-.78.8-2.07 0-2.86zM5.41 20L4 18.59l7.72-7.72 1.47 1.35L5.41 20z\"/>\n",
              "  </svg>\n",
              "      </button>\n",
              "      \n",
              "  <style>\n",
              "    .colab-df-container {\n",
              "      display:flex;\n",
              "      flex-wrap:wrap;\n",
              "      gap: 12px;\n",
              "    }\n",
              "\n",
              "    .colab-df-convert {\n",
              "      background-color: #E8F0FE;\n",
              "      border: none;\n",
              "      border-radius: 50%;\n",
              "      cursor: pointer;\n",
              "      display: none;\n",
              "      fill: #1967D2;\n",
              "      height: 32px;\n",
              "      padding: 0 0 0 0;\n",
              "      width: 32px;\n",
              "    }\n",
              "\n",
              "    .colab-df-convert:hover {\n",
              "      background-color: #E2EBFA;\n",
              "      box-shadow: 0px 1px 2px rgba(60, 64, 67, 0.3), 0px 1px 3px 1px rgba(60, 64, 67, 0.15);\n",
              "      fill: #174EA6;\n",
              "    }\n",
              "\n",
              "    [theme=dark] .colab-df-convert {\n",
              "      background-color: #3B4455;\n",
              "      fill: #D2E3FC;\n",
              "    }\n",
              "\n",
              "    [theme=dark] .colab-df-convert:hover {\n",
              "      background-color: #434B5C;\n",
              "      box-shadow: 0px 1px 3px 1px rgba(0, 0, 0, 0.15);\n",
              "      filter: drop-shadow(0px 1px 2px rgba(0, 0, 0, 0.3));\n",
              "      fill: #FFFFFF;\n",
              "    }\n",
              "  </style>\n",
              "\n",
              "      <script>\n",
              "        const buttonEl =\n",
              "          document.querySelector('#df-fb183b49-ea04-4480-8e8e-367258fb7b35 button.colab-df-convert');\n",
              "        buttonEl.style.display =\n",
              "          google.colab.kernel.accessAllowed ? 'block' : 'none';\n",
              "\n",
              "        async function convertToInteractive(key) {\n",
              "          const element = document.querySelector('#df-fb183b49-ea04-4480-8e8e-367258fb7b35');\n",
              "          const dataTable =\n",
              "            await google.colab.kernel.invokeFunction('convertToInteractive',\n",
              "                                                     [key], {});\n",
              "          if (!dataTable) return;\n",
              "\n",
              "          const docLinkHtml = 'Like what you see? Visit the ' +\n",
              "            '<a target=\"_blank\" href=https://colab.research.google.com/notebooks/data_table.ipynb>data table notebook</a>'\n",
              "            + ' to learn more about interactive tables.';\n",
              "          element.innerHTML = '';\n",
              "          dataTable['output_type'] = 'display_data';\n",
              "          await google.colab.output.renderOutput(dataTable, element);\n",
              "          const docLink = document.createElement('div');\n",
              "          docLink.innerHTML = docLinkHtml;\n",
              "          element.appendChild(docLink);\n",
              "        }\n",
              "      </script>\n",
              "    </div>\n",
              "  </div>\n",
              "  "
            ]
          },
          "metadata": {},
          "execution_count": 18
        }
      ],
      "source": [
        "df.describe()"
      ]
    },
    {
      "cell_type": "code",
      "execution_count": 19,
      "metadata": {
        "colab": {
          "base_uri": "https://localhost:8080/"
        },
        "id": "C_MHpFQ9FMWD",
        "outputId": "4c1dd0ff-b6ae-48a1-fffe-aec7ea7395e3"
      },
      "outputs": [
        {
          "output_type": "execute_result",
          "data": {
            "text/plain": [
              "20.32059"
            ]
          },
          "metadata": {},
          "execution_count": 19
        }
      ],
      "source": [
        "df.age_indicator.mean()"
      ]
    },
    {
      "cell_type": "code",
      "execution_count": 20,
      "metadata": {
        "id": "qxvBhXbPy7TO"
      },
      "outputs": [],
      "source": [
        "df['carts_created_at']= (pd.to_datetime(df['carts_created_at']))"
      ]
    },
    {
      "cell_type": "code",
      "execution_count": 21,
      "metadata": {
        "id": "QnTcEfmZzbV-"
      },
      "outputs": [],
      "source": [
        "df['month_id']= (pd.to_datetime(df['month_id']))"
      ]
    },
    {
      "cell_type": "code",
      "execution_count": 22,
      "metadata": {
        "id": "A2TZS6sf0skS"
      },
      "outputs": [],
      "source": [
        "# df[df['month_id'] > '2020-12-31'].info()"
      ]
    },
    {
      "cell_type": "code",
      "execution_count": 23,
      "metadata": {
        "id": "pKczMxXuzmwv"
      },
      "outputs": [],
      "source": [
        "df['days']= (pd.to_datetime(df['month_id']) - pd.to_datetime(df['carts_created_at']))\n",
        "df['MM_id'] = pd.DatetimeIndex(df['month_id']).month\n",
        "df['year'] = pd.DatetimeIndex(df['month_id']).year"
      ]
    },
    {
      "cell_type": "code",
      "source": [
        "df['MM_carts_created'] = pd.DatetimeIndex(df['carts_created_at']).month\n",
        "df['year_carts_created_at'] = pd.DatetimeIndex(df['carts_created_at']).year"
      ],
      "metadata": {
        "id": "nsEa-jyfYlwf"
      },
      "execution_count": 24,
      "outputs": []
    },
    {
      "cell_type": "code",
      "source": [
        "df['w_id'] = pd.DatetimeIndex(df['month_id']).weekday\n",
        "df['w_carts'] = pd.DatetimeIndex(df['carts_created_at']).weekday"
      ],
      "metadata": {
        "id": "aTVdC_RZY3Yz"
      },
      "execution_count": 25,
      "outputs": []
    },
    {
      "cell_type": "code",
      "execution_count": 26,
      "metadata": {
        "colab": {
          "base_uri": "https://localhost:8080/"
        },
        "id": "sRrR7zc50RAp",
        "outputId": "83226562-75c9-4b12-c2b0-2d5f1d3f0124"
      },
      "outputs": [
        {
          "output_type": "execute_result",
          "data": {
            "text/plain": [
              "11 days     1076\n",
              "32 days     1052\n",
              "12 days      986\n",
              "31 days      975\n",
              "42 days      963\n",
              "            ... \n",
              "542 days       2\n",
              "539 days       1\n",
              "547 days       1\n",
              "538 days       1\n",
              "540 days       1\n",
              "Name: days, Length: 544, dtype: int64"
            ]
          },
          "metadata": {},
          "execution_count": 26
        }
      ],
      "source": [
        "df.days.value_counts()  "
      ]
    },
    {
      "cell_type": "code",
      "execution_count": 27,
      "metadata": {
        "id": "uS-XT8Ib7UK3"
      },
      "outputs": [],
      "source": [
        "df['days'] = df['days'].dt.days.astype('int16')"
      ]
    },
    {
      "cell_type": "code",
      "execution_count": 28,
      "metadata": {
        "colab": {
          "base_uri": "https://localhost:8080/"
        },
        "id": "Dqw2k-RGveDE",
        "outputId": "c8d767de-54b0-4fa5-a3ff-162301a67b9b"
      },
      "outputs": [
        {
          "output_type": "execute_result",
          "data": {
            "text/plain": [
              "order    120786\n",
              "web       49759\n",
              "phone     28050\n",
              "Name: communication_type, dtype: int64"
            ]
          },
          "metadata": {},
          "execution_count": 28
        }
      ],
      "source": [
        "df.communication_type.value_counts()                   "
      ]
    },
    {
      "cell_type": "code",
      "execution_count": 29,
      "metadata": {
        "colab": {
          "base_uri": "https://localhost:8080/"
        },
        "id": "6rZGuV1L1Xp9",
        "outputId": "ae73942e-fe87-4fab-a264-27675a9891bd"
      },
      "outputs": [
        {
          "output_type": "execute_result",
          "data": {
            "text/plain": [
              "array(['phone', 'order', 'web', nan], dtype=object)"
            ]
          },
          "metadata": {},
          "execution_count": 29
        }
      ],
      "source": [
        "df[\"communication_type\"].unique()"
      ]
    },
    {
      "cell_type": "code",
      "execution_count": 30,
      "metadata": {
        "id": "STGU7ejR8vX7"
      },
      "outputs": [],
      "source": [
        "df[\"communication_type\"].fillna(3, inplace = True)"
      ]
    },
    {
      "cell_type": "code",
      "execution_count": 31,
      "metadata": {
        "id": "Q56DF6l7_D0v"
      },
      "outputs": [],
      "source": [
        "cleanup_nums = {\"communication_type\": {\"nan\": 0, \"phone\": 1, \"web\": 2, \"order\": 3}}"
      ]
    },
    {
      "cell_type": "code",
      "execution_count": 32,
      "metadata": {
        "id": "-AWlfBro_EGK"
      },
      "outputs": [],
      "source": [
        "df = df.replace(cleanup_nums)"
      ]
    },
    {
      "cell_type": "code",
      "execution_count": 33,
      "metadata": {
        "id": "mdG4bFmIojXV"
      },
      "outputs": [],
      "source": [
        "# df[\"communication_type\"].fillna('order', inplace = True)"
      ]
    },
    {
      "cell_type": "code",
      "execution_count": 34,
      "metadata": {
        "colab": {
          "base_uri": "https://localhost:8080/"
        },
        "id": "x9mYlrpR2iRw",
        "outputId": "77a47aad-91b7-49ae-b1e5-3a09124774ca"
      },
      "outputs": [
        {
          "output_type": "execute_result",
          "data": {
            "text/plain": [
              "array(['D', 'A', 'B', 'C'], dtype=object)"
            ]
          },
          "metadata": {},
          "execution_count": 34
        }
      ],
      "source": [
        "df[\"ABC\"].unique()"
      ]
    },
    {
      "cell_type": "code",
      "execution_count": 35,
      "metadata": {
        "id": "73am0-If2nRz"
      },
      "outputs": [],
      "source": [
        "cleanup_nums = {\"ABC\": {\"D\": 0, \"A\": 1, \"B\": 2, \"C\": 3}}"
      ]
    },
    {
      "cell_type": "code",
      "execution_count": 36,
      "metadata": {
        "id": "jJ14Pb7P2nRz"
      },
      "outputs": [],
      "source": [
        "df = df.replace(cleanup_nums)"
      ]
    },
    {
      "cell_type": "code",
      "execution_count": 37,
      "metadata": {
        "colab": {
          "base_uri": "https://localhost:8080/"
        },
        "id": "Cxm2CHpJ3BH9",
        "outputId": "bc8c4c11-94ef-4fee-90c4-149a4fa2c968"
      },
      "outputs": [
        {
          "output_type": "execute_result",
          "data": {
            "text/plain": [
              "array(['+', '-'], dtype=object)"
            ]
          },
          "metadata": {},
          "execution_count": 37
        }
      ],
      "source": [
        "df[\"promo\"].unique()"
      ]
    },
    {
      "cell_type": "code",
      "execution_count": 38,
      "metadata": {
        "colab": {
          "base_uri": "https://localhost:8080/"
        },
        "id": "dAdz8wnP3Sp7",
        "outputId": "3ac067a0-f1b0-4add-ceaa-8bd2f0ac0e29"
      },
      "outputs": [
        {
          "output_type": "execute_result",
          "data": {
            "text/plain": [
              "-    138595\n",
              "+     61405\n",
              "Name: promo, dtype: int64"
            ]
          },
          "metadata": {},
          "execution_count": 38
        }
      ],
      "source": [
        "df[\"promo\"].value_counts()"
      ]
    },
    {
      "cell_type": "code",
      "execution_count": 39,
      "metadata": {
        "id": "qzU35zNO3Huo"
      },
      "outputs": [],
      "source": [
        "cleanup_nums = {\"promo\": {\"+\": 1, \"-\": 0}}"
      ]
    },
    {
      "cell_type": "code",
      "execution_count": 40,
      "metadata": {
        "id": "IgPqkMcj3Huo"
      },
      "outputs": [],
      "source": [
        "df = df.replace(cleanup_nums)"
      ]
    },
    {
      "cell_type": "code",
      "execution_count": 41,
      "metadata": {
        "id": "ixwQHbzu58_h",
        "colab": {
          "base_uri": "https://localhost:8080/"
        },
        "outputId": "576cfd4c-8b74-4bf9-c17d-7f5db436a48c"
      },
      "outputs": [
        {
          "output_type": "stream",
          "name": "stdout",
          "text": [
            "<class 'pandas.core.frame.DataFrame'>\n",
            "RangeIndex: 200000 entries, 0 to 199999\n",
            "Data columns (total 66 columns):\n",
            " #   Column                     Non-Null Count   Dtype         \n",
            "---  ------                     --------------   -----         \n",
            " 0   id                         200000 non-null  int64         \n",
            " 1   age_indicator              200000 non-null  float64       \n",
            " 2   month_id                   200000 non-null  datetime64[ns]\n",
            " 3   student_id                 200000 non-null  int64         \n",
            " 4   program_id                 200000 non-null  int64         \n",
            " 5   carts_created_at           200000 non-null  datetime64[ns]\n",
            " 6   spent_time_total           86309 non-null   float64       \n",
            " 7   spent_time_to_complete_hw  42467 non-null   float64       \n",
            " 8   completed_hw               97599 non-null   float64       \n",
            " 9   failed_hw                  97599 non-null   float64       \n",
            " 10  reworked_hw                97599 non-null   float64       \n",
            " 11  interacted_hw              97599 non-null   float64       \n",
            " 12  avg_hw_mark                44496 non-null   float64       \n",
            " 13  test_with_good_mark        97599 non-null   float64       \n",
            " 14  test_with_great_mark       97599 non-null   float64       \n",
            " 15  webinars                   97599 non-null   float64       \n",
            " 16  avg_quiz_result            16259 non-null   float64       \n",
            " 17  notes                      97599 non-null   float64       \n",
            " 18  hw_leader                  97599 non-null   float64       \n",
            " 19  lessons                    97599 non-null   float64       \n",
            " 20  activity                   97599 non-null   float64       \n",
            " 21  bought_d1                  200000 non-null  int64         \n",
            " 22  bought_d2                  200000 non-null  int64         \n",
            " 23  bought_d3                  200000 non-null  int64         \n",
            " 24  bought_d4                  200000 non-null  int64         \n",
            " 25  bought_d5                  200000 non-null  int64         \n",
            " 26  bought_avg_duration        10359 non-null   float64       \n",
            " 27  payment_type               200000 non-null  int64         \n",
            " 28  promo                      200000 non-null  int64         \n",
            " 29  price                      200000 non-null  float64       \n",
            " 30  communication_type         200000 non-null  int64         \n",
            " 31  auto_payment               200000 non-null  int64         \n",
            " 32  ABC                        200000 non-null  int64         \n",
            " 33  city                       13592 non-null   object        \n",
            " 34  country                    12944 non-null   object        \n",
            " 35  gender                     200000 non-null  float64       \n",
            " 36  speed_recall               21880 non-null   float64       \n",
            " 37  os                         77374 non-null   object        \n",
            " 38  browser                    77374 non-null   object        \n",
            " 39  platform                   77361 non-null   object        \n",
            " 40  m_avg_talk_duration        51537 non-null   float64       \n",
            " 41  m_avg_duration             45764 non-null   float64       \n",
            " 42  m_missed_calls             51537 non-null   float64       \n",
            " 43  m_total_calls              51537 non-null   float64       \n",
            " 44  m_was_conversations        51537 non-null   float64       \n",
            " 45  m_total_duration           51537 non-null   float64       \n",
            " 46  p_avg_talk_duration        16453 non-null   float64       \n",
            " 47  p_avg_duration             13488 non-null   float64       \n",
            " 48  p_missed_calls             16453 non-null   float64       \n",
            " 49  p_total_calls              16453 non-null   float64       \n",
            " 50  p_was_conversations        16453 non-null   float64       \n",
            " 51  p_total_duration           16453 non-null   float64       \n",
            " 52  support_feedback_avg       37557 non-null   float64       \n",
            " 53  feedback_avg_d1            48496 non-null   float64       \n",
            " 54  feedback_avg_d2            14805 non-null   float64       \n",
            " 55  feedback_avg_d3            17778 non-null   float64       \n",
            " 56  feedback_avg_d4            25076 non-null   float64       \n",
            " 57  feedback_avg_d5            15733 non-null   float64       \n",
            " 58  target                     200000 non-null  int64         \n",
            " 59  days                       200000 non-null  int16         \n",
            " 60  MM_id                      200000 non-null  int64         \n",
            " 61  year                       200000 non-null  int64         \n",
            " 62  MM_carts_created           200000 non-null  int64         \n",
            " 63  year_carts_created_at      200000 non-null  int64         \n",
            " 64  w_id                       200000 non-null  int64         \n",
            " 65  w_carts                    200000 non-null  int64         \n",
            "dtypes: datetime64[ns](2), float64(38), int16(1), int64(20), object(5)\n",
            "memory usage: 99.6+ MB\n"
          ]
        }
      ],
      "source": [
        "df.info()"
      ]
    },
    {
      "cell_type": "markdown",
      "metadata": {
        "id": "4cxnT51gu5fJ"
      },
      "source": [
        "#Пострим на распределение данных"
      ]
    },
    {
      "cell_type": "code",
      "execution_count": null,
      "metadata": {
        "colab": {
          "base_uri": "https://localhost:8080/",
          "height": 312
        },
        "id": "205eCTRPu3Au",
        "outputId": "c2d3618d-9515-4e2b-9127-f0089fe9732b"
      },
      "outputs": [
        {
          "output_type": "execute_result",
          "data": {
            "text/plain": [
              "Text(0.5, 1.0, 'Распределение предсказываемой величены')"
            ]
          },
          "metadata": {},
          "execution_count": 158
        },
        {
          "output_type": "display_data",
          "data": {
            "text/plain": [
              "<Figure size 432x288 with 1 Axes>"
            ],
            "image/png": "[encoded data removed]"
          },
          "metadata": {
            "needs_background": "light"
          }
        }
      ],
      "source": [
        "sns.countplot(x = \"target\" , data  = df).set_title('Распределение предсказываемой величены')"
      ]
    },
    {
      "cell_type": "code",
      "execution_count": null,
      "metadata": {
        "colab": {
          "base_uri": "https://localhost:8080/",
          "height": 298
        },
        "id": "0hNUU0Dvu3DC",
        "outputId": "8c1bdb5c-ba3c-4b96-c42e-b1779f57db91"
      },
      "outputs": [
        {
          "output_type": "execute_result",
          "data": {
            "text/plain": [
              "Text(0.5, 1.0, 'Распределение возраста')"
            ]
          },
          "metadata": {},
          "execution_count": 159
        },
        {
          "output_type": "display_data",
          "data": {
            "text/plain": [
              "<Figure size 432x288 with 1 Axes>"
            ],
            "image/png": "[encoded data removed]"
          },
          "metadata": {
            "needs_background": "light"
          }
        }
      ],
      "source": [
        "df[\"age_indicator\"].hist(bins = 40).set_title('Распределение возраста')"
      ]
    },
    {
      "cell_type": "code",
      "execution_count": null,
      "metadata": {
        "colab": {
          "base_uri": "https://localhost:8080/"
        },
        "id": "uvH50JTDu3Fd",
        "outputId": "51a7f63b-dc95-41a7-b3d3-22098c6e75ce"
      },
      "outputs": [
        {
          "output_type": "execute_result",
          "data": {
            "text/plain": [
              "40.0"
            ]
          },
          "metadata": {},
          "execution_count": 160
        }
      ],
      "source": [
        "max(df[\"age_indicator\"])"
      ]
    },
    {
      "cell_type": "markdown",
      "metadata": {
        "id": "Q0CkiEzGwusL"
      },
      "source": [
        "Взглянем на несколько величин сразу"
      ]
    },
    {
      "cell_type": "code",
      "execution_count": null,
      "metadata": {
        "colab": {
          "base_uri": "https://localhost:8080/"
        },
        "id": "rliZR2Asw6HW",
        "outputId": "1c0b766d-a24b-49f9-a538-cf4a21cbc215"
      },
      "outputs": [
        {
          "output_type": "execute_result",
          "data": {
            "text/plain": [
              "Index(['id', 'age_indicator', 'month_id', 'student_id', 'program_id',\n",
              "       'carts_created_at', 'spent_time_total', 'spent_time_to_complete_hw',\n",
              "       'completed_hw', 'failed_hw', 'reworked_hw', 'interacted_hw',\n",
              "       'avg_hw_mark', 'test_with_good_mark', 'test_with_great_mark',\n",
              "       'webinars', 'avg_quiz_result', 'notes', 'hw_leader', 'lessons',\n",
              "       'activity', 'bought_d1', 'bought_d2', 'bought_d3', 'bought_d4',\n",
              "       'bought_d5', 'bought_avg_duration', 'payment_type', 'promo', 'price',\n",
              "       'communication_type', 'auto_payment', 'ABC', 'city', 'country',\n",
              "       'gender', 'speed_recall', 'os', 'browser', 'platform',\n",
              "       'm_avg_talk_duration', 'm_avg_duration', 'm_missed_calls',\n",
              "       'm_total_calls', 'm_was_conversations', 'm_total_duration',\n",
              "       'p_avg_talk_duration', 'p_avg_duration', 'p_missed_calls',\n",
              "       'p_total_calls', 'p_was_conversations', 'p_total_duration',\n",
              "       'support_feedback_avg', 'feedback_avg_d1', 'feedback_avg_d2',\n",
              "       'feedback_avg_d3', 'feedback_avg_d4', 'feedback_avg_d5', 'target',\n",
              "       'days', 'MM_id', 'year', 'MM_carts_created', 'year_carts_created_at',\n",
              "       'w_id', 'w_carts'],\n",
              "      dtype='object')"
            ]
          },
          "metadata": {},
          "execution_count": 161
        }
      ],
      "source": [
        "df.columns"
      ]
    },
    {
      "cell_type": "code",
      "execution_count": null,
      "metadata": {
        "colab": {
          "base_uri": "https://localhost:8080/",
          "height": 716
        },
        "id": "NM_Cufl3u3H0",
        "outputId": "748a21fe-b776-4760-9838-1097c1eca54e"
      },
      "outputs": [
        {
          "output_type": "display_data",
          "data": {
            "text/plain": [
              "<Figure size 1440x864 with 25 Axes>"
            ],
            "image/png": "[encoded data removed]"
          },
          "metadata": {
            "needs_background": "light"
          }
        }
      ],
      "source": [
        "features = list(set(['age_indicator',\n",
        "       'carts_created_at', 'spent_time_total', 'spent_time_to_complete_hw',\n",
        "       'completed_hw', 'failed_hw', 'reworked_hw', 'interacted_hw',\n",
        "       'avg_hw_mark', 'test_with_good_mark', 'test_with_great_mark',\n",
        "       'webinars', 'avg_quiz_result', 'notes', 'hw_leader', 'lessons',\n",
        "       'activity', 'bought_d1', 'bought_d2', 'bought_d3', 'bought_d4',\n",
        "       'bought_d5', 'bought_avg_duration']))\n",
        "\n",
        "_ = df[features].hist(figsize=(20,12))"
      ]
    },
    {
      "cell_type": "markdown",
      "metadata": {
        "id": "zr-31zZQxUwx"
      },
      "source": [
        "Обратим внимание на часть столбцов с постоянными значениями"
      ]
    },
    {
      "cell_type": "code",
      "execution_count": null,
      "metadata": {
        "colab": {
          "base_uri": "https://localhost:8080/"
        },
        "id": "qw4IcQ2fu3KL",
        "outputId": "15a69eac-c787-4c93-c881-d481b83c1575"
      },
      "outputs": [
        {
          "output_type": "execute_result",
          "data": {
            "text/plain": [
              " 0.0    42466\n",
              "-1.0        1\n",
              "Name: spent_time_to_complete_hw, dtype: int64"
            ]
          },
          "metadata": {},
          "execution_count": 163
        }
      ],
      "source": [
        "df.spent_time_to_complete_hw.value_counts()"
      ]
    },
    {
      "cell_type": "code",
      "execution_count": null,
      "metadata": {
        "colab": {
          "base_uri": "https://localhost:8080/"
        },
        "id": "m1D4sPQzxS5l",
        "outputId": "788217fb-3c3b-4c03-ef4e-19442a6059dd"
      },
      "outputs": [
        {
          "output_type": "execute_result",
          "data": {
            "text/plain": [
              "0    198694\n",
              "1      1262\n",
              "3        40\n",
              "4         4\n",
              "Name: bought_d4, dtype: int64"
            ]
          },
          "metadata": {},
          "execution_count": 164
        }
      ],
      "source": [
        "df.bought_d4.value_counts()"
      ]
    },
    {
      "cell_type": "code",
      "execution_count": null,
      "metadata": {
        "colab": {
          "base_uri": "https://localhost:8080/",
          "height": 892
        },
        "id": "VnDPAAahyOnw",
        "outputId": "5188a324-001e-404a-a8e4-c0e94f2991f4"
      },
      "outputs": [
        {
          "output_type": "display_data",
          "data": {
            "text/plain": [
              "<Figure size 1080x1080 with 2 Axes>"
            ],
            "image/png": "[encoded data removed]"
          },
          "metadata": {
            "needs_background": "light"
          }
        }
      ],
      "source": [
        "plt.rcParams['figure.figsize']=(15,15)\n",
        "\n",
        "df_corr = df[[\"target\",'age_indicator',\n",
        "       'carts_created_at', 'spent_time_total',\n",
        "       'completed_hw', 'failed_hw', 'reworked_hw', 'interacted_hw',\n",
        "       'avg_hw_mark', 'test_with_good_mark', 'test_with_great_mark',\n",
        "       'webinars', 'avg_quiz_result', 'notes', 'hw_leader', 'lessons',\n",
        "       'activity', 'bought_d1', 'bought_d2', 'bought_d3',\n",
        "       'bought_d5', 'bought_avg_duration']]\n",
        "\n",
        "g = sns.heatmap(df_corr.corr(), square = True, annot=True)"
      ]
    },
    {
      "cell_type": "code",
      "source": [
        "# df.to_csv('df.csv',  index=True)"
      ],
      "metadata": {
        "id": "XgmvXcCPy_l_"
      },
      "execution_count": null,
      "outputs": []
    },
    {
      "cell_type": "code",
      "source": [
        "df['target'].value_counts()"
      ],
      "metadata": {
        "colab": {
          "base_uri": "https://localhost:8080/"
        },
        "id": "uW7WOxH80B8i",
        "outputId": "26739968-ec8d-4351-dd94-42b3718541ab"
      },
      "execution_count": null,
      "outputs": [
        {
          "output_type": "execute_result",
          "data": {
            "text/plain": [
              "0    174301\n",
              "1     13512\n",
              "5      3678\n",
              "4      3659\n",
              "3      3027\n",
              "2      1823\n",
              "Name: target, dtype: int64"
            ]
          },
          "metadata": {},
          "execution_count": 254
        }
      ]
    },
    {
      "cell_type": "markdown",
      "metadata": {
        "id": "VLOa56f5zfUg"
      },
      "source": [
        "# Выделим выборки"
      ]
    },
    {
      "cell_type": "code",
      "execution_count": 42,
      "metadata": {
        "colab": {
          "base_uri": "https://localhost:8080/"
        },
        "id": "T5wEuIQ50ibJ",
        "outputId": "08a94bb9-582b-4b4d-fd02-c65b8e4855c9"
      },
      "outputs": [
        {
          "output_type": "execute_result",
          "data": {
            "text/plain": [
              "array([dtype('O'), dtype('O'), dtype('O'), dtype('O'), dtype('O')],\n",
              "      dtype=object)"
            ]
          },
          "metadata": {},
          "execution_count": 42
        }
      ],
      "source": [
        "df.dtypes[df.dtypes == \"object\"].values"
      ]
    },
    {
      "cell_type": "markdown",
      "metadata": {
        "id": "845Wf3zJ1dhc"
      },
      "source": [
        "Поместим все столбцы object в массив, для их дальнейшего удаления"
      ]
    },
    {
      "cell_type": "code",
      "execution_count": 43,
      "metadata": {
        "id": "Poa1_MKE08xs"
      },
      "outputs": [],
      "source": [
        "mass_object = df.dtypes[df.dtypes == \"object\"].index.values"
      ]
    },
    {
      "cell_type": "code",
      "execution_count": 44,
      "metadata": {
        "id": "mAhVoVTj1l-D"
      },
      "outputs": [],
      "source": [
        "mass_object = np.append(mass_object, \"target\")"
      ]
    },
    {
      "cell_type": "code",
      "execution_count": 45,
      "metadata": {
        "colab": {
          "base_uri": "https://localhost:8080/"
        },
        "id": "73xQb6ttRijr",
        "outputId": "b9d258fb-5c18-47a5-9e68-c77e0ca9f121"
      },
      "outputs": [
        {
          "output_type": "execute_result",
          "data": {
            "text/plain": [
              "array(['city', 'country', 'os', 'browser', 'platform', 'target'],\n",
              "      dtype=object)"
            ]
          },
          "metadata": {},
          "execution_count": 45
        }
      ],
      "source": [
        "mass_object"
      ]
    },
    {
      "cell_type": "code",
      "execution_count": 46,
      "metadata": {
        "id": "czsoZexkyyTw"
      },
      "outputs": [],
      "source": [
        "X = df.drop(mass_object, axis = 1)\n",
        "y = df[[\"target\"]]"
      ]
    },
    {
      "cell_type": "code",
      "execution_count": 47,
      "metadata": {
        "id": "L8kcfroACTyf"
      },
      "outputs": [],
      "source": [
        "mass_null = X.dtypes[X.isnull().sum() != 0].index.values"
      ]
    },
    {
      "cell_type": "code",
      "execution_count": 48,
      "metadata": {
        "colab": {
          "base_uri": "https://localhost:8080/"
        },
        "id": "mw1MeCtwCWow",
        "outputId": "1bf23051-5a32-4b9c-fded-7a3280b3d713"
      },
      "outputs": [
        {
          "output_type": "execute_result",
          "data": {
            "text/plain": [
              "array(['spent_time_total', 'spent_time_to_complete_hw', 'completed_hw',\n",
              "       'failed_hw', 'reworked_hw', 'interacted_hw', 'avg_hw_mark',\n",
              "       'test_with_good_mark', 'test_with_great_mark', 'webinars',\n",
              "       'avg_quiz_result', 'notes', 'hw_leader', 'lessons', 'activity',\n",
              "       'bought_avg_duration', 'speed_recall', 'm_avg_talk_duration',\n",
              "       'm_avg_duration', 'm_missed_calls', 'm_total_calls',\n",
              "       'm_was_conversations', 'm_total_duration', 'p_avg_talk_duration',\n",
              "       'p_avg_duration', 'p_missed_calls', 'p_total_calls',\n",
              "       'p_was_conversations', 'p_total_duration', 'support_feedback_avg',\n",
              "       'feedback_avg_d1', 'feedback_avg_d2', 'feedback_avg_d3',\n",
              "       'feedback_avg_d4', 'feedback_avg_d5'], dtype=object)"
            ]
          },
          "metadata": {},
          "execution_count": 48
        }
      ],
      "source": [
        "mass_null"
      ]
    },
    {
      "cell_type": "code",
      "execution_count": 49,
      "metadata": {
        "id": "zmxArZugCWr5"
      },
      "outputs": [],
      "source": [
        "X = X.drop(mass_null, axis = 1)"
      ]
    },
    {
      "cell_type": "code",
      "execution_count": 50,
      "metadata": {
        "id": "V_iXq8x9CrYA"
      },
      "outputs": [],
      "source": [
        "X = X.drop(['month_id', 'carts_created_at'], axis = 1)"
      ]
    },
    {
      "cell_type": "code",
      "execution_count": 51,
      "metadata": {
        "colab": {
          "base_uri": "https://localhost:8080/"
        },
        "id": "BSNwra3e07wI",
        "outputId": "26b3c900-5975-4e6b-ef14-532a191a2a3b"
      },
      "outputs": [
        {
          "output_type": "execute_result",
          "data": {
            "text/plain": [
              "(200000, 23)"
            ]
          },
          "metadata": {},
          "execution_count": 51
        }
      ],
      "source": [
        "X.shape"
      ]
    },
    {
      "cell_type": "code",
      "execution_count": 52,
      "metadata": {
        "colab": {
          "base_uri": "https://localhost:8080/"
        },
        "id": "0czcz1JuRo-o",
        "outputId": "25a1e03d-79b3-4871-9b5d-f3fc69a2130a"
      },
      "outputs": [
        {
          "output_type": "stream",
          "name": "stdout",
          "text": [
            "<class 'pandas.core.frame.DataFrame'>\n",
            "RangeIndex: 200000 entries, 0 to 199999\n",
            "Data columns (total 23 columns):\n",
            " #   Column                 Non-Null Count   Dtype  \n",
            "---  ------                 --------------   -----  \n",
            " 0   id                     200000 non-null  int64  \n",
            " 1   age_indicator          200000 non-null  float64\n",
            " 2   student_id             200000 non-null  int64  \n",
            " 3   program_id             200000 non-null  int64  \n",
            " 4   bought_d1              200000 non-null  int64  \n",
            " 5   bought_d2              200000 non-null  int64  \n",
            " 6   bought_d3              200000 non-null  int64  \n",
            " 7   bought_d4              200000 non-null  int64  \n",
            " 8   bought_d5              200000 non-null  int64  \n",
            " 9   payment_type           200000 non-null  int64  \n",
            " 10  promo                  200000 non-null  int64  \n",
            " 11  price                  200000 non-null  float64\n",
            " 12  communication_type     200000 non-null  int64  \n",
            " 13  auto_payment           200000 non-null  int64  \n",
            " 14  ABC                    200000 non-null  int64  \n",
            " 15  gender                 200000 non-null  float64\n",
            " 16  days                   200000 non-null  int16  \n",
            " 17  MM_id                  200000 non-null  int64  \n",
            " 18  year                   200000 non-null  int64  \n",
            " 19  MM_carts_created       200000 non-null  int64  \n",
            " 20  year_carts_created_at  200000 non-null  int64  \n",
            " 21  w_id                   200000 non-null  int64  \n",
            " 22  w_carts                200000 non-null  int64  \n",
            "dtypes: float64(3), int16(1), int64(19)\n",
            "memory usage: 34.0 MB\n"
          ]
        }
      ],
      "source": [
        "X.info()"
      ]
    },
    {
      "cell_type": "code",
      "source": [
        "X"
      ],
      "metadata": {
        "id": "Kf7P5ojbbtT0",
        "colab": {
          "base_uri": "https://localhost:8080/",
          "height": 488
        },
        "outputId": "e59a4abe-d5e4-4c8f-e077-134e098eb774"
      },
      "execution_count": 53,
      "outputs": [
        {
          "output_type": "execute_result",
          "data": {
            "text/plain": [
              "            id  age_indicator  student_id  program_id  bought_d1  bought_d2  \\\n",
              "0        15182           32.0     6694527        1469          0          0   \n",
              "1        89385           20.0     6712877        1392          0          0   \n",
              "2        47931           20.0     6659444         376          0          0   \n",
              "3       279085            1.0     7151591        1160          0          0   \n",
              "4         7806           30.0     6705666         952          0          0   \n",
              "...        ...            ...         ...         ...        ...        ...   \n",
              "199995  179932           27.0     6816668        1043          1          0   \n",
              "199996  257734           20.0     6984939        1635          0          0   \n",
              "199997   43549           17.0     6670084         789          0          0   \n",
              "199998  100800           20.0     6917324         476          0          0   \n",
              "199999  162913           18.0     7057970        1104          0          0   \n",
              "\n",
              "        bought_d3  bought_d4  bought_d5  payment_type  ...  auto_payment  ABC  \\\n",
              "0               0          0          0             1  ...             0    0   \n",
              "1               0          0          0             1  ...             1    1   \n",
              "2               0          0          0             1  ...             0    0   \n",
              "3               0          0          0             1  ...             1    2   \n",
              "4               0          0          0             1  ...             1    1   \n",
              "...           ...        ...        ...           ...  ...           ...  ...   \n",
              "199995          0          1          0             1  ...             1    0   \n",
              "199996          0          0          0             1  ...             0    0   \n",
              "199997          0          0          0             1  ...             0    0   \n",
              "199998          0          0          0             1  ...             1    1   \n",
              "199999          0          0          0             1  ...             1    1   \n",
              "\n",
              "        gender  days  MM_id  year  MM_carts_created  year_carts_created_at  \\\n",
              "0          1.0    35      9  2020                 8                   2020   \n",
              "1          0.0   329      6  2021                 8                   2020   \n",
              "2          0.0   253      2  2021                 6                   2020   \n",
              "3          1.0   230     11  2021                 4                   2021   \n",
              "4          1.0   104     10  2020                 7                   2020   \n",
              "...        ...   ...    ...   ...               ...                    ...   \n",
              "199995     1.0   410     11  2021                10                   2020   \n",
              "199996     0.0   271      9  2021                 1                   2021   \n",
              "199997     1.0   275      3  2021                 6                   2020   \n",
              "199998     0.0   205      6  2021                12                   2020   \n",
              "199999     1.0   249     10  2021                 2                   2021   \n",
              "\n",
              "        w_id  w_carts  \n",
              "0          2        2  \n",
              "1          2        2  \n",
              "2          6        5  \n",
              "3          1        2  \n",
              "4          5        6  \n",
              "...      ...      ...  \n",
              "199995     1        4  \n",
              "199996     3        5  \n",
              "199997     2        0  \n",
              "199998     2        0  \n",
              "199999     6        2  \n",
              "\n",
              "[200000 rows x 23 columns]"
            ],
            "text/html": [
              "\n",
              "  <div id=\"df-3e23a7d2-e90e-40f7-8850-e1e0bd6d7587\">\n",
              "    <div class=\"colab-df-container\">\n",
              "      <div>\n",
              "<style scoped>\n",
              "    .dataframe tbody tr th:only-of-type {\n",
              "        vertical-align: middle;\n",
              "    }\n",
              "\n",
              "    .dataframe tbody tr th {\n",
              "        vertical-align: top;\n",
              "    }\n",
              "\n",
              "    .dataframe thead th {\n",
              "        text-align: right;\n",
              "    }\n",
              "</style>\n",
              "<table border=\"1\" class=\"dataframe\">\n",
              "  <thead>\n",
              "    <tr style=\"text-align: right;\">\n",
              "      <th></th>\n",
              "      <th>id</th>\n",
              "      <th>age_indicator</th>\n",
              "      <th>student_id</th>\n",
              "      <th>program_id</th>\n",
              "      <th>bought_d1</th>\n",
              "      <th>bought_d2</th>\n",
              "      <th>bought_d3</th>\n",
              "      <th>bought_d4</th>\n",
              "      <th>bought_d5</th>\n",
              "      <th>payment_type</th>\n",
              "      <th>...</th>\n",
              "      <th>auto_payment</th>\n",
              "      <th>ABC</th>\n",
              "      <th>gender</th>\n",
              "      <th>days</th>\n",
              "      <th>MM_id</th>\n",
              "      <th>year</th>\n",
              "      <th>MM_carts_created</th>\n",
              "      <th>year_carts_created_at</th>\n",
              "      <th>w_id</th>\n",
              "      <th>w_carts</th>\n",
              "    </tr>\n",
              "  </thead>\n",
              "  <tbody>\n",
              "    <tr>\n",
              "      <th>0</th>\n",
              "      <td>15182</td>\n",
              "      <td>32.0</td>\n",
              "      <td>6694527</td>\n",
              "      <td>1469</td>\n",
              "      <td>0</td>\n",
              "      <td>0</td>\n",
              "      <td>0</td>\n",
              "      <td>0</td>\n",
              "      <td>0</td>\n",
              "      <td>1</td>\n",
              "      <td>...</td>\n",
              "      <td>0</td>\n",
              "      <td>0</td>\n",
              "      <td>1.0</td>\n",
              "      <td>35</td>\n",
              "      <td>9</td>\n",
              "      <td>2020</td>\n",
              "      <td>8</td>\n",
              "      <td>2020</td>\n",
              "      <td>2</td>\n",
              "      <td>2</td>\n",
              "    </tr>\n",
              "    <tr>\n",
              "      <th>1</th>\n",
              "      <td>89385</td>\n",
              "      <td>20.0</td>\n",
              "      <td>6712877</td>\n",
              "      <td>1392</td>\n",
              "      <td>0</td>\n",
              "      <td>0</td>\n",
              "      <td>0</td>\n",
              "      <td>0</td>\n",
              "      <td>0</td>\n",
              "      <td>1</td>\n",
              "      <td>...</td>\n",
              "      <td>1</td>\n",
              "      <td>1</td>\n",
              "      <td>0.0</td>\n",
              "      <td>329</td>\n",
              "      <td>6</td>\n",
              "      <td>2021</td>\n",
              "      <td>8</td>\n",
              "      <td>2020</td>\n",
              "      <td>2</td>\n",
              "      <td>2</td>\n",
              "    </tr>\n",
              "    <tr>\n",
              "      <th>2</th>\n",
              "      <td>47931</td>\n",
              "      <td>20.0</td>\n",
              "      <td>6659444</td>\n",
              "      <td>376</td>\n",
              "      <td>0</td>\n",
              "      <td>0</td>\n",
              "      <td>0</td>\n",
              "      <td>0</td>\n",
              "      <td>0</td>\n",
              "      <td>1</td>\n",
              "      <td>...</td>\n",
              "      <td>0</td>\n",
              "      <td>0</td>\n",
              "      <td>0.0</td>\n",
              "      <td>253</td>\n",
              "      <td>2</td>\n",
              "      <td>2021</td>\n",
              "      <td>6</td>\n",
              "      <td>2020</td>\n",
              "      <td>6</td>\n",
              "      <td>5</td>\n",
              "    </tr>\n",
              "    <tr>\n",
              "      <th>3</th>\n",
              "      <td>279085</td>\n",
              "      <td>1.0</td>\n",
              "      <td>7151591</td>\n",
              "      <td>1160</td>\n",
              "      <td>0</td>\n",
              "      <td>0</td>\n",
              "      <td>0</td>\n",
              "      <td>0</td>\n",
              "      <td>0</td>\n",
              "      <td>1</td>\n",
              "      <td>...</td>\n",
              "      <td>1</td>\n",
              "      <td>2</td>\n",
              "      <td>1.0</td>\n",
              "      <td>230</td>\n",
              "      <td>11</td>\n",
              "      <td>2021</td>\n",
              "      <td>4</td>\n",
              "      <td>2021</td>\n",
              "      <td>1</td>\n",
              "      <td>2</td>\n",
              "    </tr>\n",
              "    <tr>\n",
              "      <th>4</th>\n",
              "      <td>7806</td>\n",
              "      <td>30.0</td>\n",
              "      <td>6705666</td>\n",
              "      <td>952</td>\n",
              "      <td>0</td>\n",
              "      <td>0</td>\n",
              "      <td>0</td>\n",
              "      <td>0</td>\n",
              "      <td>0</td>\n",
              "      <td>1</td>\n",
              "      <td>...</td>\n",
              "      <td>1</td>\n",
              "      <td>1</td>\n",
              "      <td>1.0</td>\n",
              "      <td>104</td>\n",
              "      <td>10</td>\n",
              "      <td>2020</td>\n",
              "      <td>7</td>\n",
              "      <td>2020</td>\n",
              "      <td>5</td>\n",
              "      <td>6</td>\n",
              "    </tr>\n",
              "    <tr>\n",
              "      <th>...</th>\n",
              "      <td>...</td>\n",
              "      <td>...</td>\n",
              "      <td>...</td>\n",
              "      <td>...</td>\n",
              "      <td>...</td>\n",
              "      <td>...</td>\n",
              "      <td>...</td>\n",
              "      <td>...</td>\n",
              "      <td>...</td>\n",
              "      <td>...</td>\n",
              "      <td>...</td>\n",
              "      <td>...</td>\n",
              "      <td>...</td>\n",
              "      <td>...</td>\n",
              "      <td>...</td>\n",
              "      <td>...</td>\n",
              "      <td>...</td>\n",
              "      <td>...</td>\n",
              "      <td>...</td>\n",
              "      <td>...</td>\n",
              "      <td>...</td>\n",
              "    </tr>\n",
              "    <tr>\n",
              "      <th>199995</th>\n",
              "      <td>179932</td>\n",
              "      <td>27.0</td>\n",
              "      <td>6816668</td>\n",
              "      <td>1043</td>\n",
              "      <td>1</td>\n",
              "      <td>0</td>\n",
              "      <td>0</td>\n",
              "      <td>1</td>\n",
              "      <td>0</td>\n",
              "      <td>1</td>\n",
              "      <td>...</td>\n",
              "      <td>1</td>\n",
              "      <td>0</td>\n",
              "      <td>1.0</td>\n",
              "      <td>410</td>\n",
              "      <td>11</td>\n",
              "      <td>2021</td>\n",
              "      <td>10</td>\n",
              "      <td>2020</td>\n",
              "      <td>1</td>\n",
              "      <td>4</td>\n",
              "    </tr>\n",
              "    <tr>\n",
              "      <th>199996</th>\n",
              "      <td>257734</td>\n",
              "      <td>20.0</td>\n",
              "      <td>6984939</td>\n",
              "      <td>1635</td>\n",
              "      <td>0</td>\n",
              "      <td>0</td>\n",
              "      <td>0</td>\n",
              "      <td>0</td>\n",
              "      <td>0</td>\n",
              "      <td>1</td>\n",
              "      <td>...</td>\n",
              "      <td>0</td>\n",
              "      <td>0</td>\n",
              "      <td>0.0</td>\n",
              "      <td>271</td>\n",
              "      <td>9</td>\n",
              "      <td>2021</td>\n",
              "      <td>1</td>\n",
              "      <td>2021</td>\n",
              "      <td>3</td>\n",
              "      <td>5</td>\n",
              "    </tr>\n",
              "    <tr>\n",
              "      <th>199997</th>\n",
              "      <td>43549</td>\n",
              "      <td>17.0</td>\n",
              "      <td>6670084</td>\n",
              "      <td>789</td>\n",
              "      <td>0</td>\n",
              "      <td>0</td>\n",
              "      <td>0</td>\n",
              "      <td>0</td>\n",
              "      <td>0</td>\n",
              "      <td>1</td>\n",
              "      <td>...</td>\n",
              "      <td>0</td>\n",
              "      <td>0</td>\n",
              "      <td>1.0</td>\n",
              "      <td>275</td>\n",
              "      <td>3</td>\n",
              "      <td>2021</td>\n",
              "      <td>6</td>\n",
              "      <td>2020</td>\n",
              "      <td>2</td>\n",
              "      <td>0</td>\n",
              "    </tr>\n",
              "    <tr>\n",
              "      <th>199998</th>\n",
              "      <td>100800</td>\n",
              "      <td>20.0</td>\n",
              "      <td>6917324</td>\n",
              "      <td>476</td>\n",
              "      <td>0</td>\n",
              "      <td>0</td>\n",
              "      <td>0</td>\n",
              "      <td>0</td>\n",
              "      <td>0</td>\n",
              "      <td>1</td>\n",
              "      <td>...</td>\n",
              "      <td>1</td>\n",
              "      <td>1</td>\n",
              "      <td>0.0</td>\n",
              "      <td>205</td>\n",
              "      <td>6</td>\n",
              "      <td>2021</td>\n",
              "      <td>12</td>\n",
              "      <td>2020</td>\n",
              "      <td>2</td>\n",
              "      <td>0</td>\n",
              "    </tr>\n",
              "    <tr>\n",
              "      <th>199999</th>\n",
              "      <td>162913</td>\n",
              "      <td>18.0</td>\n",
              "      <td>7057970</td>\n",
              "      <td>1104</td>\n",
              "      <td>0</td>\n",
              "      <td>0</td>\n",
              "      <td>0</td>\n",
              "      <td>0</td>\n",
              "      <td>0</td>\n",
              "      <td>1</td>\n",
              "      <td>...</td>\n",
              "      <td>1</td>\n",
              "      <td>1</td>\n",
              "      <td>1.0</td>\n",
              "      <td>249</td>\n",
              "      <td>10</td>\n",
              "      <td>2021</td>\n",
              "      <td>2</td>\n",
              "      <td>2021</td>\n",
              "      <td>6</td>\n",
              "      <td>2</td>\n",
              "    </tr>\n",
              "  </tbody>\n",
              "</table>\n",
              "<p>200000 rows × 23 columns</p>\n",
              "</div>\n",
              "      <button class=\"colab-df-convert\" onclick=\"convertToInteractive('df-3e23a7d2-e90e-40f7-8850-e1e0bd6d7587')\"\n",
              "              title=\"Convert this dataframe to an interactive table.\"\n",
              "              style=\"display:none;\">\n",
              "        \n",
              "  <svg xmlns=\"http://www.w3.org/2000/svg\" height=\"24px\"viewBox=\"0 0 24 24\"\n",
              "       width=\"24px\">\n",
              "    <path d=\"M0 0h24v24H0V0z\" fill=\"none\"/>\n",
              "    <path d=\"M18.56 5.44l.94 2.06.94-2.06 2.06-.94-2.06-.94-.94-2.06-.94 2.06-2.06.94zm-11 1L8.5 8.5l.94-2.06 2.06-.94-2.06-.94L8.5 2.5l-.94 2.06-2.06.94zm10 10l.94 2.06.94-2.06 2.06-.94-2.06-.94-.94-2.06-.94 2.06-2.06.94z\"/><path d=\"M17.41 7.96l-1.37-1.37c-.4-.4-.92-.59-1.43-.59-.52 0-1.04.2-1.43.59L10.3 9.45l-7.72 7.72c-.78.78-.78 2.05 0 2.83L4 21.41c.39.39.9.59 1.41.59.51 0 1.02-.2 1.41-.59l7.78-7.78 2.81-2.81c.8-.78.8-2.07 0-2.86zM5.41 20L4 18.59l7.72-7.72 1.47 1.35L5.41 20z\"/>\n",
              "  </svg>\n",
              "      </button>\n",
              "      \n",
              "  <style>\n",
              "    .colab-df-container {\n",
              "      display:flex;\n",
              "      flex-wrap:wrap;\n",
              "      gap: 12px;\n",
              "    }\n",
              "\n",
              "    .colab-df-convert {\n",
              "      background-color: #E8F0FE;\n",
              "      border: none;\n",
              "      border-radius: 50%;\n",
              "      cursor: pointer;\n",
              "      display: none;\n",
              "      fill: #1967D2;\n",
              "      height: 32px;\n",
              "      padding: 0 0 0 0;\n",
              "      width: 32px;\n",
              "    }\n",
              "\n",
              "    .colab-df-convert:hover {\n",
              "      background-color: #E2EBFA;\n",
              "      box-shadow: 0px 1px 2px rgba(60, 64, 67, 0.3), 0px 1px 3px 1px rgba(60, 64, 67, 0.15);\n",
              "      fill: #174EA6;\n",
              "    }\n",
              "\n",
              "    [theme=dark] .colab-df-convert {\n",
              "      background-color: #3B4455;\n",
              "      fill: #D2E3FC;\n",
              "    }\n",
              "\n",
              "    [theme=dark] .colab-df-convert:hover {\n",
              "      background-color: #434B5C;\n",
              "      box-shadow: 0px 1px 3px 1px rgba(0, 0, 0, 0.15);\n",
              "      filter: drop-shadow(0px 1px 2px rgba(0, 0, 0, 0.3));\n",
              "      fill: #FFFFFF;\n",
              "    }\n",
              "  </style>\n",
              "\n",
              "      <script>\n",
              "        const buttonEl =\n",
              "          document.querySelector('#df-3e23a7d2-e90e-40f7-8850-e1e0bd6d7587 button.colab-df-convert');\n",
              "        buttonEl.style.display =\n",
              "          google.colab.kernel.accessAllowed ? 'block' : 'none';\n",
              "\n",
              "        async function convertToInteractive(key) {\n",
              "          const element = document.querySelector('#df-3e23a7d2-e90e-40f7-8850-e1e0bd6d7587');\n",
              "          const dataTable =\n",
              "            await google.colab.kernel.invokeFunction('convertToInteractive',\n",
              "                                                     [key], {});\n",
              "          if (!dataTable) return;\n",
              "\n",
              "          const docLinkHtml = 'Like what you see? Visit the ' +\n",
              "            '<a target=\"_blank\" href=https://colab.research.google.com/notebooks/data_table.ipynb>data table notebook</a>'\n",
              "            + ' to learn more about interactive tables.';\n",
              "          element.innerHTML = '';\n",
              "          dataTable['output_type'] = 'display_data';\n",
              "          await google.colab.output.renderOutput(dataTable, element);\n",
              "          const docLink = document.createElement('div');\n",
              "          docLink.innerHTML = docLinkHtml;\n",
              "          element.appendChild(docLink);\n",
              "        }\n",
              "      </script>\n",
              "    </div>\n",
              "  </div>\n",
              "  "
            ]
          },
          "metadata": {},
          "execution_count": 53
        }
      ]
    },
    {
      "cell_type": "markdown",
      "source": [
        "# smote"
      ],
      "metadata": {
        "id": "wTjOuon4I_xS"
      }
    },
    {
      "cell_type": "code",
      "source": [
        "from imblearn.over_sampling import SMOTE\n",
        "# X_resampled, y_resampled = SMOTE().fit_resample(X, y)"
      ],
      "metadata": {
        "id": "ClVjREzZJE-l"
      },
      "execution_count": 55,
      "outputs": []
    },
    {
      "cell_type": "code",
      "source": [
        "sm = SMOTE(random_state=42, k_neighbors=5)"
      ],
      "metadata": {
        "id": "dWEFkX_oKNwh"
      },
      "execution_count": null,
      "outputs": []
    },
    {
      "cell_type": "code",
      "source": [
        "X_resampled, y_resampled = sm.fit_resample(X, y)"
      ],
      "metadata": {
        "id": "qG_U0MZPKOOE"
      },
      "execution_count": null,
      "outputs": []
    },
    {
      "cell_type": "code",
      "source": [
        "X_train, X_test, y_train, y_test = train_test_split(X_resampled, y_resampled, test_size=0.25, random_state=42)"
      ],
      "metadata": {
        "id": "A8bpay2gJUfM"
      },
      "execution_count": 57,
      "outputs": []
    },
    {
      "cell_type": "markdown",
      "source": [
        "# далее"
      ],
      "metadata": {
        "id": "woFCmutAJB35"
      }
    },
    {
      "cell_type": "code",
      "execution_count": 54,
      "metadata": {
        "id": "E-LfoARf2WGZ"
      },
      "outputs": [],
      "source": [
        "X_train, X_test, y_train, y_test = train_test_split(X, y, test_size=0.25, random_state=42)"
      ]
    },
    {
      "cell_type": "markdown",
      "metadata": {
        "id": "X_HOvpXy2e3S"
      },
      "source": [
        "# Обучение модели"
      ]
    },
    {
      "cell_type": "code",
      "execution_count": null,
      "metadata": {
        "id": "1ypNSGoK2czB"
      },
      "outputs": [],
      "source": [
        "# clf = RandomForestClassifier(random_state=0)"
      ]
    },
    {
      "cell_type": "code",
      "execution_count": null,
      "metadata": {
        "id": "8K_JDzCJ2glP"
      },
      "outputs": [],
      "source": [
        "# clf.fit(X_train, y_train)"
      ]
    },
    {
      "cell_type": "code",
      "execution_count": null,
      "metadata": {
        "id": "Kyn29IDxIAyi"
      },
      "outputs": [],
      "source": [
        "# forest = RandomForestClassifier(n_estimators=100, n_jobs=-1, random_state=42)\n",
        "# forest_params = {'max_depth': range(18,25), 'min_samples_leaf': [1, 3, 5, 7],\n",
        "# 'max_features': range(10,23)}\n",
        "# forest_grid = GridSearchCV(forest, forest_params,\n",
        "# cv=2, n_jobs=-1,\n",
        "# verbose=True)\n",
        "# forest_grid.fit(X_train, y_train)\n",
        "# forest_grid.best_params_, forest_grid.best_score_ "
      ]
    },
    {
      "cell_type": "code",
      "execution_count": null,
      "metadata": {
        "id": "Id97AT5EH8A2"
      },
      "outputs": [],
      "source": [
        "# accuracy_score(y_test, forest_grid.predict(X_test))"
      ]
    },
    {
      "cell_type": "markdown",
      "metadata": {
        "id": "web7WEaQJ64f"
      },
      "source": [
        "# модель 2"
      ]
    },
    {
      "cell_type": "code",
      "execution_count": null,
      "metadata": {
        "id": "M3Snp6IXKFae"
      },
      "outputs": [],
      "source": [
        "# skf = StratifiedKFold(n_splits=5, shuffle=True, random_state=42)\n",
        "# parameters = {'max_features': [4, 7, 10, 13], 'min_samples_leaf': [1, 3, 5, 7], 'max_depth': [5,10,15,20]}\n",
        "# rfc = RandomForestClassifier(n_estimators=100, random_state=42, \n",
        "#                              n_jobs=-1, oob_score=True)\n",
        "# gcv = GridSearchCV(rfc, parameters, n_jobs=-1, cv=skf, verbose=1)\n",
        "# gcv.fit(X_train, y_train)"
      ]
    },
    {
      "cell_type": "code",
      "execution_count": null,
      "metadata": {
        "id": "XTN29i7xa0E7",
        "colab": {
          "base_uri": "https://localhost:8080/"
        },
        "outputId": "385b594e-e7f5-4d76-9db4-fecccd2f41e5"
      },
      "outputs": [
        {
          "output_type": "execute_result",
          "data": {
            "text/plain": [
              "({'max_depth': 40, 'max_features': 23, 'min_samples_leaf': 1},\n",
              " 0.9580466666666666)"
            ]
          },
          "metadata": {},
          "execution_count": 184
        }
      ],
      "source": [
        "gcv.best_params_, gcv.best_score_ "
      ]
    },
    {
      "cell_type": "code",
      "source": [
        "skf = StratifiedKFold(n_splits=5, shuffle=True, random_state=42)\n",
        "parameters = {'max_features': [23], 'min_samples_leaf': [1], 'max_depth': [40]}\n",
        "rfc = RandomForestClassifier(n_estimators=100, random_state=42, \n",
        "                             n_jobs=-1, oob_score=True)\n",
        "gcv = GridSearchCV(rfc, parameters, n_jobs=-1, cv=skf, verbose=1)\n",
        "gcv.fit(X_train, y_train)"
      ],
      "metadata": {
        "colab": {
          "base_uri": "https://localhost:8080/"
        },
        "id": "vZ_QgfB4ewRI",
        "outputId": "8fc6bf2c-abe3-4844-bbb7-9a4d33d33dc7"
      },
      "execution_count": 58,
      "outputs": [
        {
          "output_type": "stream",
          "name": "stdout",
          "text": [
            "Fitting 5 folds for each of 1 candidates, totalling 5 fits\n"
          ]
        },
        {
          "output_type": "stream",
          "name": "stderr",
          "text": [
            "/usr/local/lib/python3.7/dist-packages/sklearn/model_selection/_search.py:926: DataConversionWarning: A column-vector y was passed when a 1d array was expected. Please change the shape of y to (n_samples,), for example using ravel().\n",
            "  self.best_estimator_.fit(X, y, **fit_params)\n"
          ]
        },
        {
          "output_type": "execute_result",
          "data": {
            "text/plain": [
              "GridSearchCV(cv=StratifiedKFold(n_splits=5, random_state=42, shuffle=True),\n",
              "             estimator=RandomForestClassifier(n_jobs=-1, oob_score=True,\n",
              "                                              random_state=42),\n",
              "             n_jobs=-1,\n",
              "             param_grid={'max_depth': [40], 'max_features': [23],\n",
              "                         'min_samples_leaf': [1]},\n",
              "             verbose=1)"
            ]
          },
          "metadata": {},
          "execution_count": 58
        }
      ]
    },
    {
      "cell_type": "markdown",
      "source": [
        "последнее решение"
      ],
      "metadata": {
        "id": "CsU8jmueude2"
      }
    },
    {
      "cell_type": "code",
      "source": [
        "# skf = StratifiedKFold(n_splits=5, shuffle=True, random_state=42)\n",
        "# parameters = {'max_features': range(10,23), 'min_samples_leaf': [1, 3], 'max_depth': range(18,25)}\n",
        "# rfc = RandomForestClassifier(n_estimators=100, random_state=42, \n",
        "#                              n_jobs=-1, oob_score=True)\n",
        "# gcv = GridSearchCV(rfc, parameters, n_jobs=-1, cv=skf, verbose=1)\n",
        "# gcv.fit(X_train, y_train)"
      ],
      "metadata": {
        "id": "BVzboVxCZy1x"
      },
      "execution_count": null,
      "outputs": []
    },
    {
      "cell_type": "code",
      "source": [
        "gcv.best_params_, gcv.best_score_ "
      ],
      "metadata": {
        "id": "PzcE59JobdtQ",
        "colab": {
          "base_uri": "https://localhost:8080/"
        },
        "outputId": "41900d80-d8c9-4bfa-dfb8-733e3ac1574b"
      },
      "execution_count": 59,
      "outputs": [
        {
          "output_type": "execute_result",
          "data": {
            "text/plain": [
              "({'max_depth': 40, 'max_features': 23, 'min_samples_leaf': 1},\n",
              " 0.9811692170906238)"
            ]
          },
          "metadata": {},
          "execution_count": 59
        }
      ]
    },
    {
      "cell_type": "code",
      "source": [
        "# gcv.best_params_, gcv.best_score_ "
      ],
      "metadata": {
        "id": "rHOrvnt3mIf7",
        "colab": {
          "base_uri": "https://localhost:8080/"
        },
        "outputId": "35252e85-2bbc-4096-e4ab-885c6f48c061"
      },
      "execution_count": null,
      "outputs": [
        {
          "output_type": "execute_result",
          "data": {
            "text/plain": [
              "({'max_depth': 40, 'max_features': 23, 'min_samples_leaf': 1},\n",
              " 0.9580466666666666)"
            ]
          },
          "metadata": {},
          "execution_count": 190
        }
      ]
    },
    {
      "cell_type": "markdown",
      "metadata": {
        "id": "aqxTaUVm2iiP"
      },
      "source": [
        "## Оценка точности"
      ]
    },
    {
      "cell_type": "code",
      "source": [
        "# pred = forest_grid.predict(X_test)"
      ],
      "metadata": {
        "id": "mL1g74C8jsHz"
      },
      "execution_count": null,
      "outputs": []
    },
    {
      "cell_type": "code",
      "source": [
        "pred = gcv.predict(X_test)"
      ],
      "metadata": {
        "id": "XaK7YBFdnhYy"
      },
      "execution_count": 60,
      "outputs": []
    },
    {
      "cell_type": "code",
      "execution_count": null,
      "metadata": {
        "id": "aJt5-Okm2h3I"
      },
      "outputs": [],
      "source": [
        "# pred = clf.predict(X_test)"
      ]
    },
    {
      "cell_type": "markdown",
      "metadata": {
        "id": "swckrVOdeOBw"
      },
      "source": [
        "MODEL"
      ]
    },
    {
      "cell_type": "code",
      "execution_count": null,
      "metadata": {
        "colab": {
          "base_uri": "https://localhost:8080/"
        },
        "id": "agJDYgUBeL0_",
        "outputId": "a2c2b8d2-7251-4d4c-8705-ee8129bf45da"
      },
      "outputs": [
        {
          "output_type": "execute_result",
          "data": {
            "text/plain": [
              "0.9127162788614701"
            ]
          },
          "metadata": {},
          "execution_count": 192
        }
      ],
      "source": [
        "# 0.2* recall_score(y_test, pred, average='macro') + 0.8* precision_score(y_test, pred, average='macro')"
      ]
    },
    {
      "cell_type": "markdown",
      "metadata": {
        "id": "WzV8NcEkeI52"
      },
      "source": [
        "gcv"
      ]
    },
    {
      "cell_type": "code",
      "execution_count": 61,
      "metadata": {
        "id": "Vz2JrMW32m3N",
        "colab": {
          "base_uri": "https://localhost:8080/"
        },
        "outputId": "fde24ad1-d04c-4fff-bb7a-bf10946d0398"
      },
      "outputs": [
        {
          "output_type": "execute_result",
          "data": {
            "text/plain": [
              "0.9855035181083625"
            ]
          },
          "metadata": {},
          "execution_count": 61
        }
      ],
      "source": [
        "0.2* recall_score(y_test, pred, average='macro') + 0.8* precision_score(y_test, pred, average='macro')"
      ]
    },
    {
      "cell_type": "markdown",
      "metadata": {
        "id": "j9KIyteOQKZh"
      },
      "source": [
        "# test"
      ]
    },
    {
      "cell_type": "code",
      "execution_count": 62,
      "metadata": {
        "id": "ViytUP0UQMyC"
      },
      "outputs": [],
      "source": [
        "test = pd.read_csv(\"/content/drive/MyDrive/Оренбург ИИ/test_dataset_test (3).csv\")"
      ]
    },
    {
      "cell_type": "code",
      "execution_count": 63,
      "metadata": {
        "colab": {
          "base_uri": "https://localhost:8080/",
          "height": 0
        },
        "id": "WZylwm4jQM1f",
        "outputId": "c0a3c4f0-945c-4aae-dc89-2398f2a5ca11"
      },
      "outputs": [
        {
          "output_type": "execute_result",
          "data": {
            "text/plain": [
              "       id  age_indicator   month_id  student_id  program_id carts_created_at  \\\n",
              "0   77551            NaN  5/31/2021     7064806        1395        2/28/2021   \n",
              "1  227812           27.0  5/31/2021     6982061         245         1/1/2021   \n",
              "2  103035            9.0  6/30/2021     7118790        1233        3/19/2021   \n",
              "\n",
              "   spent_time_total  spent_time_to_complete_hw  completed_hw  failed_hw  ...  \\\n",
              "0               NaN                        NaN           NaN        NaN  ...   \n",
              "1              81.0                        0.0           5.0        0.0  ...   \n",
              "2              49.0                        0.0           2.0        0.0  ...   \n",
              "\n",
              "   p_missed_calls  p_total_calls  p_was_conversations  p_total_duration  \\\n",
              "0             NaN            NaN                  NaN               NaN   \n",
              "1             NaN            NaN                  NaN               NaN   \n",
              "2             NaN            NaN                  NaN               NaN   \n",
              "\n",
              "   support_feedback_avg  feedback_avg_d1  feedback_avg_d2  feedback_avg_d3  \\\n",
              "0                   NaN              NaN              NaN              NaN   \n",
              "1                   NaN              NaN              NaN              NaN   \n",
              "2                   NaN              NaN              NaN              5.0   \n",
              "\n",
              "   feedback_avg_d4  feedback_avg_d5  \n",
              "0              NaN              NaN  \n",
              "1              NaN              NaN  \n",
              "2              NaN              NaN  \n",
              "\n",
              "[3 rows x 58 columns]"
            ],
            "text/html": [
              "\n",
              "  <div id=\"df-f36f14ca-85d2-45b1-a374-7cdf4fb2f956\">\n",
              "    <div class=\"colab-df-container\">\n",
              "      <div>\n",
              "<style scoped>\n",
              "    .dataframe tbody tr th:only-of-type {\n",
              "        vertical-align: middle;\n",
              "    }\n",
              "\n",
              "    .dataframe tbody tr th {\n",
              "        vertical-align: top;\n",
              "    }\n",
              "\n",
              "    .dataframe thead th {\n",
              "        text-align: right;\n",
              "    }\n",
              "</style>\n",
              "<table border=\"1\" class=\"dataframe\">\n",
              "  <thead>\n",
              "    <tr style=\"text-align: right;\">\n",
              "      <th></th>\n",
              "      <th>id</th>\n",
              "      <th>age_indicator</th>\n",
              "      <th>month_id</th>\n",
              "      <th>student_id</th>\n",
              "      <th>program_id</th>\n",
              "      <th>carts_created_at</th>\n",
              "      <th>spent_time_total</th>\n",
              "      <th>spent_time_to_complete_hw</th>\n",
              "      <th>completed_hw</th>\n",
              "      <th>failed_hw</th>\n",
              "      <th>...</th>\n",
              "      <th>p_missed_calls</th>\n",
              "      <th>p_total_calls</th>\n",
              "      <th>p_was_conversations</th>\n",
              "      <th>p_total_duration</th>\n",
              "      <th>support_feedback_avg</th>\n",
              "      <th>feedback_avg_d1</th>\n",
              "      <th>feedback_avg_d2</th>\n",
              "      <th>feedback_avg_d3</th>\n",
              "      <th>feedback_avg_d4</th>\n",
              "      <th>feedback_avg_d5</th>\n",
              "    </tr>\n",
              "  </thead>\n",
              "  <tbody>\n",
              "    <tr>\n",
              "      <th>0</th>\n",
              "      <td>77551</td>\n",
              "      <td>NaN</td>\n",
              "      <td>5/31/2021</td>\n",
              "      <td>7064806</td>\n",
              "      <td>1395</td>\n",
              "      <td>2/28/2021</td>\n",
              "      <td>NaN</td>\n",
              "      <td>NaN</td>\n",
              "      <td>NaN</td>\n",
              "      <td>NaN</td>\n",
              "      <td>...</td>\n",
              "      <td>NaN</td>\n",
              "      <td>NaN</td>\n",
              "      <td>NaN</td>\n",
              "      <td>NaN</td>\n",
              "      <td>NaN</td>\n",
              "      <td>NaN</td>\n",
              "      <td>NaN</td>\n",
              "      <td>NaN</td>\n",
              "      <td>NaN</td>\n",
              "      <td>NaN</td>\n",
              "    </tr>\n",
              "    <tr>\n",
              "      <th>1</th>\n",
              "      <td>227812</td>\n",
              "      <td>27.0</td>\n",
              "      <td>5/31/2021</td>\n",
              "      <td>6982061</td>\n",
              "      <td>245</td>\n",
              "      <td>1/1/2021</td>\n",
              "      <td>81.0</td>\n",
              "      <td>0.0</td>\n",
              "      <td>5.0</td>\n",
              "      <td>0.0</td>\n",
              "      <td>...</td>\n",
              "      <td>NaN</td>\n",
              "      <td>NaN</td>\n",
              "      <td>NaN</td>\n",
              "      <td>NaN</td>\n",
              "      <td>NaN</td>\n",
              "      <td>NaN</td>\n",
              "      <td>NaN</td>\n",
              "      <td>NaN</td>\n",
              "      <td>NaN</td>\n",
              "      <td>NaN</td>\n",
              "    </tr>\n",
              "    <tr>\n",
              "      <th>2</th>\n",
              "      <td>103035</td>\n",
              "      <td>9.0</td>\n",
              "      <td>6/30/2021</td>\n",
              "      <td>7118790</td>\n",
              "      <td>1233</td>\n",
              "      <td>3/19/2021</td>\n",
              "      <td>49.0</td>\n",
              "      <td>0.0</td>\n",
              "      <td>2.0</td>\n",
              "      <td>0.0</td>\n",
              "      <td>...</td>\n",
              "      <td>NaN</td>\n",
              "      <td>NaN</td>\n",
              "      <td>NaN</td>\n",
              "      <td>NaN</td>\n",
              "      <td>NaN</td>\n",
              "      <td>NaN</td>\n",
              "      <td>NaN</td>\n",
              "      <td>5.0</td>\n",
              "      <td>NaN</td>\n",
              "      <td>NaN</td>\n",
              "    </tr>\n",
              "  </tbody>\n",
              "</table>\n",
              "<p>3 rows × 58 columns</p>\n",
              "</div>\n",
              "      <button class=\"colab-df-convert\" onclick=\"convertToInteractive('df-f36f14ca-85d2-45b1-a374-7cdf4fb2f956')\"\n",
              "              title=\"Convert this dataframe to an interactive table.\"\n",
              "              style=\"display:none;\">\n",
              "        \n",
              "  <svg xmlns=\"http://www.w3.org/2000/svg\" height=\"24px\"viewBox=\"0 0 24 24\"\n",
              "       width=\"24px\">\n",
              "    <path d=\"M0 0h24v24H0V0z\" fill=\"none\"/>\n",
              "    <path d=\"M18.56 5.44l.94 2.06.94-2.06 2.06-.94-2.06-.94-.94-2.06-.94 2.06-2.06.94zm-11 1L8.5 8.5l.94-2.06 2.06-.94-2.06-.94L8.5 2.5l-.94 2.06-2.06.94zm10 10l.94 2.06.94-2.06 2.06-.94-2.06-.94-.94-2.06-.94 2.06-2.06.94z\"/><path d=\"M17.41 7.96l-1.37-1.37c-.4-.4-.92-.59-1.43-.59-.52 0-1.04.2-1.43.59L10.3 9.45l-7.72 7.72c-.78.78-.78 2.05 0 2.83L4 21.41c.39.39.9.59 1.41.59.51 0 1.02-.2 1.41-.59l7.78-7.78 2.81-2.81c.8-.78.8-2.07 0-2.86zM5.41 20L4 18.59l7.72-7.72 1.47 1.35L5.41 20z\"/>\n",
              "  </svg>\n",
              "      </button>\n",
              "      \n",
              "  <style>\n",
              "    .colab-df-container {\n",
              "      display:flex;\n",
              "      flex-wrap:wrap;\n",
              "      gap: 12px;\n",
              "    }\n",
              "\n",
              "    .colab-df-convert {\n",
              "      background-color: #E8F0FE;\n",
              "      border: none;\n",
              "      border-radius: 50%;\n",
              "      cursor: pointer;\n",
              "      display: none;\n",
              "      fill: #1967D2;\n",
              "      height: 32px;\n",
              "      padding: 0 0 0 0;\n",
              "      width: 32px;\n",
              "    }\n",
              "\n",
              "    .colab-df-convert:hover {\n",
              "      background-color: #E2EBFA;\n",
              "      box-shadow: 0px 1px 2px rgba(60, 64, 67, 0.3), 0px 1px 3px 1px rgba(60, 64, 67, 0.15);\n",
              "      fill: #174EA6;\n",
              "    }\n",
              "\n",
              "    [theme=dark] .colab-df-convert {\n",
              "      background-color: #3B4455;\n",
              "      fill: #D2E3FC;\n",
              "    }\n",
              "\n",
              "    [theme=dark] .colab-df-convert:hover {\n",
              "      background-color: #434B5C;\n",
              "      box-shadow: 0px 1px 3px 1px rgba(0, 0, 0, 0.15);\n",
              "      filter: drop-shadow(0px 1px 2px rgba(0, 0, 0, 0.3));\n",
              "      fill: #FFFFFF;\n",
              "    }\n",
              "  </style>\n",
              "\n",
              "      <script>\n",
              "        const buttonEl =\n",
              "          document.querySelector('#df-f36f14ca-85d2-45b1-a374-7cdf4fb2f956 button.colab-df-convert');\n",
              "        buttonEl.style.display =\n",
              "          google.colab.kernel.accessAllowed ? 'block' : 'none';\n",
              "\n",
              "        async function convertToInteractive(key) {\n",
              "          const element = document.querySelector('#df-f36f14ca-85d2-45b1-a374-7cdf4fb2f956');\n",
              "          const dataTable =\n",
              "            await google.colab.kernel.invokeFunction('convertToInteractive',\n",
              "                                                     [key], {});\n",
              "          if (!dataTable) return;\n",
              "\n",
              "          const docLinkHtml = 'Like what you see? Visit the ' +\n",
              "            '<a target=\"_blank\" href=https://colab.research.google.com/notebooks/data_table.ipynb>data table notebook</a>'\n",
              "            + ' to learn more about interactive tables.';\n",
              "          element.innerHTML = '';\n",
              "          dataTable['output_type'] = 'display_data';\n",
              "          await google.colab.output.renderOutput(dataTable, element);\n",
              "          const docLink = document.createElement('div');\n",
              "          docLink.innerHTML = docLinkHtml;\n",
              "          element.appendChild(docLink);\n",
              "        }\n",
              "      </script>\n",
              "    </div>\n",
              "  </div>\n",
              "  "
            ]
          },
          "metadata": {},
          "execution_count": 63
        }
      ],
      "source": [
        "test.head(3)"
      ]
    },
    {
      "cell_type": "code",
      "execution_count": 64,
      "metadata": {
        "colab": {
          "base_uri": "https://localhost:8080/"
        },
        "id": "BarjcYVeQr3i",
        "outputId": "9cfc2e12-d967-41ab-8774-97a8bd212134"
      },
      "outputs": [
        {
          "output_type": "stream",
          "name": "stdout",
          "text": [
            "<class 'pandas.core.frame.DataFrame'>\n",
            "RangeIndex: 84997 entries, 0 to 84996\n",
            "Data columns (total 58 columns):\n",
            " #   Column                     Non-Null Count  Dtype  \n",
            "---  ------                     --------------  -----  \n",
            " 0   id                         84997 non-null  int64  \n",
            " 1   age_indicator              67548 non-null  float64\n",
            " 2   month_id                   84997 non-null  object \n",
            " 3   student_id                 84997 non-null  int64  \n",
            " 4   program_id                 84997 non-null  int64  \n",
            " 5   carts_created_at           84997 non-null  object \n",
            " 6   spent_time_total           36687 non-null  float64\n",
            " 7   spent_time_to_complete_hw  18046 non-null  float64\n",
            " 8   completed_hw               41481 non-null  float64\n",
            " 9   failed_hw                  41481 non-null  float64\n",
            " 10  reworked_hw                41481 non-null  float64\n",
            " 11  interacted_hw              41481 non-null  float64\n",
            " 12  avg_hw_mark                18909 non-null  float64\n",
            " 13  test_with_good_mark        41481 non-null  float64\n",
            " 14  test_with_great_mark       41481 non-null  float64\n",
            " 15  webinars                   41481 non-null  float64\n",
            " 16  avg_quiz_result            6954 non-null   float64\n",
            " 17  notes                      41481 non-null  float64\n",
            " 18  hw_leader                  41481 non-null  float64\n",
            " 19  lessons                    41481 non-null  float64\n",
            " 20  activity                   41481 non-null  float64\n",
            " 21  bought_d1                  84997 non-null  int64  \n",
            " 22  bought_d2                  84997 non-null  int64  \n",
            " 23  bought_d3                  84997 non-null  int64  \n",
            " 24  bought_d4                  84997 non-null  int64  \n",
            " 25  bought_d5                  84997 non-null  int64  \n",
            " 26  bought_avg_duration        4277 non-null   float64\n",
            " 27  payment_type               84997 non-null  int64  \n",
            " 28  promo                      84997 non-null  object \n",
            " 29  price                      84997 non-null  float64\n",
            " 30  communication_type         84361 non-null  object \n",
            " 31  auto_payment               84997 non-null  int64  \n",
            " 32  ABC                        84997 non-null  object \n",
            " 33  city                       5669 non-null   object \n",
            " 34  country                    5423 non-null   object \n",
            " 35  gender                     84978 non-null  float64\n",
            " 36  speed_recall               9283 non-null   float64\n",
            " 37  os                         33026 non-null  object \n",
            " 38  browser                    33026 non-null  object \n",
            " 39  platform                   33018 non-null  object \n",
            " 40  m_avg_talk_duration        21908 non-null  float64\n",
            " 41  m_avg_duration             19375 non-null  float64\n",
            " 42  m_missed_calls             21908 non-null  float64\n",
            " 43  m_total_calls              21908 non-null  float64\n",
            " 44  m_was_conversations        21908 non-null  float64\n",
            " 45  m_total_duration           21908 non-null  float64\n",
            " 46  p_avg_talk_duration        7129 non-null   float64\n",
            " 47  p_avg_duration             5867 non-null   float64\n",
            " 48  p_missed_calls             7129 non-null   float64\n",
            " 49  p_total_calls              7129 non-null   float64\n",
            " 50  p_was_conversations        7129 non-null   float64\n",
            " 51  p_total_duration           7129 non-null   float64\n",
            " 52  support_feedback_avg       15749 non-null  float64\n",
            " 53  feedback_avg_d1            20650 non-null  float64\n",
            " 54  feedback_avg_d2            6237 non-null   float64\n",
            " 55  feedback_avg_d3            7640 non-null   float64\n",
            " 56  feedback_avg_d4            10678 non-null  float64\n",
            " 57  feedback_avg_d5            6756 non-null   float64\n",
            "dtypes: float64(38), int64(10), object(10)\n",
            "memory usage: 37.6+ MB\n"
          ]
        }
      ],
      "source": [
        "test.info()"
      ]
    },
    {
      "cell_type": "code",
      "execution_count": 65,
      "metadata": {
        "id": "4DlYLyIJDdwP"
      },
      "outputs": [],
      "source": [
        "test['age_indicator'] = test['age_indicator'].fillna((test['age_indicator'].median()))"
      ]
    },
    {
      "cell_type": "code",
      "execution_count": 66,
      "metadata": {
        "colab": {
          "base_uri": "https://localhost:8080/"
        },
        "id": "Yq3tLkryDdwR",
        "outputId": "2839ed01-b62e-4fdf-b5f5-c26e0596857b"
      },
      "outputs": [
        {
          "output_type": "execute_result",
          "data": {
            "text/plain": [
              "0.0    37246\n",
              "1.0    29219\n",
              "2.0    18513\n",
              "Name: gender, dtype: int64"
            ]
          },
          "metadata": {},
          "execution_count": 66
        }
      ],
      "source": [
        "test['gender'].value_counts()"
      ]
    },
    {
      "cell_type": "code",
      "execution_count": 67,
      "metadata": {
        "id": "XKClzilzDdwR"
      },
      "outputs": [],
      "source": [
        "test[\"gender\"].fillna(0, inplace = True)"
      ]
    },
    {
      "cell_type": "code",
      "execution_count": 68,
      "metadata": {
        "colab": {
          "base_uri": "https://localhost:8080/"
        },
        "id": "ikfW1ZGmDdwT",
        "outputId": "934a4b19-8a50-489d-986f-769c3522f60c"
      },
      "outputs": [
        {
          "output_type": "execute_result",
          "data": {
            "text/plain": [
              "20.34397684624163"
            ]
          },
          "metadata": {},
          "execution_count": 68
        }
      ],
      "source": [
        "test.age_indicator.mean()"
      ]
    },
    {
      "cell_type": "code",
      "execution_count": 69,
      "metadata": {
        "id": "VCDc9zEcDdwT"
      },
      "outputs": [],
      "source": [
        "test['carts_created_at']= (pd.to_datetime(test['carts_created_at']))"
      ]
    },
    {
      "cell_type": "code",
      "execution_count": 70,
      "metadata": {
        "id": "7rKfZEtcDdwU"
      },
      "outputs": [],
      "source": [
        "test['month_id']= (pd.to_datetime(test['month_id']))"
      ]
    },
    {
      "cell_type": "code",
      "execution_count": 71,
      "metadata": {
        "id": "Tb_k6TsqDdwb"
      },
      "outputs": [],
      "source": [
        "test['days']= (pd.to_datetime(test['month_id']) - pd.to_datetime(test['carts_created_at']))\n",
        "test['MM_id'] = pd.DatetimeIndex(test['month_id']).month\n",
        "test['year'] = pd.DatetimeIndex(test['month_id']).year"
      ]
    },
    {
      "cell_type": "code",
      "source": [
        "test['MM_carts_created'] = pd.DatetimeIndex(test['carts_created_at']).month\n",
        "test['year_carts_created_at'] = pd.DatetimeIndex(test['carts_created_at']).year"
      ],
      "metadata": {
        "id": "MOeCTMbqbjq0"
      },
      "execution_count": 72,
      "outputs": []
    },
    {
      "cell_type": "code",
      "source": [
        "test['w_id'] = pd.DatetimeIndex(test['month_id']).weekday\n",
        "test['w_carts'] = pd.DatetimeIndex(test['carts_created_at']).weekday"
      ],
      "metadata": {
        "id": "sUaWOmOGbjq1"
      },
      "execution_count": 73,
      "outputs": []
    },
    {
      "cell_type": "code",
      "execution_count": 74,
      "metadata": {
        "colab": {
          "base_uri": "https://localhost:8080/"
        },
        "id": "kWeTe9EsDdwc",
        "outputId": "dba8a029-3e8d-4ef6-b02a-9447f0155953"
      },
      "outputs": [
        {
          "output_type": "execute_result",
          "data": {
            "text/plain": [
              "11 days     476\n",
              "12 days     437\n",
              "32 days     424\n",
              "31 days     414\n",
              "42 days     386\n",
              "           ... \n",
              "547 days      2\n",
              "543 days      1\n",
              "540 days      1\n",
              "544 days      1\n",
              "535 days      1\n",
              "Name: days, Length: 542, dtype: int64"
            ]
          },
          "metadata": {},
          "execution_count": 74
        }
      ],
      "source": [
        "test.days.value_counts()  "
      ]
    },
    {
      "cell_type": "code",
      "execution_count": 75,
      "metadata": {
        "id": "MnjRFJq6Ddwd"
      },
      "outputs": [],
      "source": [
        "test['days'] = test['days'].dt.days.astype('int16')"
      ]
    },
    {
      "cell_type": "code",
      "execution_count": 76,
      "metadata": {
        "colab": {
          "base_uri": "https://localhost:8080/"
        },
        "id": "3zhd2rU_Ddwe",
        "outputId": "63d76dcb-ec79-4d3c-ffef-16a13ced5425"
      },
      "outputs": [
        {
          "output_type": "execute_result",
          "data": {
            "text/plain": [
              "array(['order', 'web', 'phone', nan], dtype=object)"
            ]
          },
          "metadata": {},
          "execution_count": 76
        }
      ],
      "source": [
        "test[\"communication_type\"].unique()"
      ]
    },
    {
      "cell_type": "code",
      "execution_count": 77,
      "metadata": {
        "id": "nGWDUt96Ddwe"
      },
      "outputs": [],
      "source": [
        "test[\"communication_type\"].fillna(3, inplace = True)"
      ]
    },
    {
      "cell_type": "code",
      "execution_count": 78,
      "metadata": {
        "id": "FBd6_PYoDdwe"
      },
      "outputs": [],
      "source": [
        "cleanup_nums = {\"communication_type\": {\"nan\": 0, \"phone\": 1, \"web\": 2, \"order\": 3}}"
      ]
    },
    {
      "cell_type": "code",
      "execution_count": 79,
      "metadata": {
        "id": "wkFlj33vDdwf"
      },
      "outputs": [],
      "source": [
        "test = test.replace(cleanup_nums)"
      ]
    },
    {
      "cell_type": "code",
      "execution_count": 80,
      "metadata": {
        "id": "ozyzWmYkDdwf"
      },
      "outputs": [],
      "source": [
        "# df[\"communication_type\"].fillna('order', inplace = True)"
      ]
    },
    {
      "cell_type": "code",
      "execution_count": 81,
      "metadata": {
        "colab": {
          "base_uri": "https://localhost:8080/"
        },
        "id": "w5VA-FbDDdwf",
        "outputId": "dfbf9ea3-d592-4b9b-b572-89e57000885d"
      },
      "outputs": [
        {
          "output_type": "execute_result",
          "data": {
            "text/plain": [
              "array(['B', 'D', 'C', 'A'], dtype=object)"
            ]
          },
          "metadata": {},
          "execution_count": 81
        }
      ],
      "source": [
        "test[\"ABC\"].unique()"
      ]
    },
    {
      "cell_type": "code",
      "execution_count": 82,
      "metadata": {
        "id": "nc0lu46FDdwg"
      },
      "outputs": [],
      "source": [
        "cleanup_nums = {\"ABC\": {\"D\": 0, \"A\": 1, \"B\": 2, \"C\": 3}}"
      ]
    },
    {
      "cell_type": "code",
      "execution_count": 83,
      "metadata": {
        "id": "Fr_LFtwJDdwg"
      },
      "outputs": [],
      "source": [
        "test = test.replace(cleanup_nums)"
      ]
    },
    {
      "cell_type": "code",
      "execution_count": 84,
      "metadata": {
        "colab": {
          "base_uri": "https://localhost:8080/"
        },
        "id": "BpC1B9dfDdwg",
        "outputId": "09732693-870e-4c28-b2fd-7d956f2b561c"
      },
      "outputs": [
        {
          "output_type": "execute_result",
          "data": {
            "text/plain": [
              "array(['-', '+'], dtype=object)"
            ]
          },
          "metadata": {},
          "execution_count": 84
        }
      ],
      "source": [
        "test[\"promo\"].unique()"
      ]
    },
    {
      "cell_type": "code",
      "execution_count": 85,
      "metadata": {
        "colab": {
          "base_uri": "https://localhost:8080/"
        },
        "id": "78LyqDm7Ddwg",
        "outputId": "db7a3a22-d7ad-4edf-b396-263a3a65caeb"
      },
      "outputs": [
        {
          "output_type": "execute_result",
          "data": {
            "text/plain": [
              "-    59012\n",
              "+    25985\n",
              "Name: promo, dtype: int64"
            ]
          },
          "metadata": {},
          "execution_count": 85
        }
      ],
      "source": [
        "test[\"promo\"].value_counts()"
      ]
    },
    {
      "cell_type": "code",
      "execution_count": 86,
      "metadata": {
        "id": "iuilpT_ODdwh"
      },
      "outputs": [],
      "source": [
        "cleanup_nums = {\"promo\": {\"+\": 1, \"-\": 0}}"
      ]
    },
    {
      "cell_type": "code",
      "execution_count": 87,
      "metadata": {
        "id": "ml4xFu4hDdwh"
      },
      "outputs": [],
      "source": [
        "test = test.replace(cleanup_nums)"
      ]
    },
    {
      "cell_type": "code",
      "execution_count": 88,
      "metadata": {
        "colab": {
          "base_uri": "https://localhost:8080/"
        },
        "id": "vnAdUY2_Ddwh",
        "outputId": "6a1b86b3-e07c-4827-f062-fb3424cac599"
      },
      "outputs": [
        {
          "output_type": "stream",
          "name": "stdout",
          "text": [
            "<class 'pandas.core.frame.DataFrame'>\n",
            "RangeIndex: 84997 entries, 0 to 84996\n",
            "Data columns (total 65 columns):\n",
            " #   Column                     Non-Null Count  Dtype         \n",
            "---  ------                     --------------  -----         \n",
            " 0   id                         84997 non-null  int64         \n",
            " 1   age_indicator              84997 non-null  float64       \n",
            " 2   month_id                   84997 non-null  datetime64[ns]\n",
            " 3   student_id                 84997 non-null  int64         \n",
            " 4   program_id                 84997 non-null  int64         \n",
            " 5   carts_created_at           84997 non-null  datetime64[ns]\n",
            " 6   spent_time_total           36687 non-null  float64       \n",
            " 7   spent_time_to_complete_hw  18046 non-null  float64       \n",
            " 8   completed_hw               41481 non-null  float64       \n",
            " 9   failed_hw                  41481 non-null  float64       \n",
            " 10  reworked_hw                41481 non-null  float64       \n",
            " 11  interacted_hw              41481 non-null  float64       \n",
            " 12  avg_hw_mark                18909 non-null  float64       \n",
            " 13  test_with_good_mark        41481 non-null  float64       \n",
            " 14  test_with_great_mark       41481 non-null  float64       \n",
            " 15  webinars                   41481 non-null  float64       \n",
            " 16  avg_quiz_result            6954 non-null   float64       \n",
            " 17  notes                      41481 non-null  float64       \n",
            " 18  hw_leader                  41481 non-null  float64       \n",
            " 19  lessons                    41481 non-null  float64       \n",
            " 20  activity                   41481 non-null  float64       \n",
            " 21  bought_d1                  84997 non-null  int64         \n",
            " 22  bought_d2                  84997 non-null  int64         \n",
            " 23  bought_d3                  84997 non-null  int64         \n",
            " 24  bought_d4                  84997 non-null  int64         \n",
            " 25  bought_d5                  84997 non-null  int64         \n",
            " 26  bought_avg_duration        4277 non-null   float64       \n",
            " 27  payment_type               84997 non-null  int64         \n",
            " 28  promo                      84997 non-null  int64         \n",
            " 29  price                      84997 non-null  float64       \n",
            " 30  communication_type         84997 non-null  int64         \n",
            " 31  auto_payment               84997 non-null  int64         \n",
            " 32  ABC                        84997 non-null  int64         \n",
            " 33  city                       5669 non-null   object        \n",
            " 34  country                    5423 non-null   object        \n",
            " 35  gender                     84997 non-null  float64       \n",
            " 36  speed_recall               9283 non-null   float64       \n",
            " 37  os                         33026 non-null  object        \n",
            " 38  browser                    33026 non-null  object        \n",
            " 39  platform                   33018 non-null  object        \n",
            " 40  m_avg_talk_duration        21908 non-null  float64       \n",
            " 41  m_avg_duration             19375 non-null  float64       \n",
            " 42  m_missed_calls             21908 non-null  float64       \n",
            " 43  m_total_calls              21908 non-null  float64       \n",
            " 44  m_was_conversations        21908 non-null  float64       \n",
            " 45  m_total_duration           21908 non-null  float64       \n",
            " 46  p_avg_talk_duration        7129 non-null   float64       \n",
            " 47  p_avg_duration             5867 non-null   float64       \n",
            " 48  p_missed_calls             7129 non-null   float64       \n",
            " 49  p_total_calls              7129 non-null   float64       \n",
            " 50  p_was_conversations        7129 non-null   float64       \n",
            " 51  p_total_duration           7129 non-null   float64       \n",
            " 52  support_feedback_avg       15749 non-null  float64       \n",
            " 53  feedback_avg_d1            20650 non-null  float64       \n",
            " 54  feedback_avg_d2            6237 non-null   float64       \n",
            " 55  feedback_avg_d3            7640 non-null   float64       \n",
            " 56  feedback_avg_d4            10678 non-null  float64       \n",
            " 57  feedback_avg_d5            6756 non-null   float64       \n",
            " 58  days                       84997 non-null  int16         \n",
            " 59  MM_id                      84997 non-null  int64         \n",
            " 60  year                       84997 non-null  int64         \n",
            " 61  MM_carts_created           84997 non-null  int64         \n",
            " 62  year_carts_created_at      84997 non-null  int64         \n",
            " 63  w_id                       84997 non-null  int64         \n",
            " 64  w_carts                    84997 non-null  int64         \n",
            "dtypes: datetime64[ns](2), float64(38), int16(1), int64(19), object(5)\n",
            "memory usage: 41.7+ MB\n"
          ]
        }
      ],
      "source": [
        "test.info()"
      ]
    },
    {
      "cell_type": "markdown",
      "metadata": {
        "id": "dUla_L5UQr3n"
      },
      "source": [
        "Заменим все пропуски в данных"
      ]
    },
    {
      "cell_type": "code",
      "execution_count": 89,
      "metadata": {
        "id": "05NDmEXGQr3o"
      },
      "outputs": [],
      "source": [
        "# test = test.fillna(0)"
      ]
    },
    {
      "cell_type": "code",
      "execution_count": 89,
      "metadata": {
        "id": "8gIHgAi2ET_O"
      },
      "outputs": [],
      "source": [
        ""
      ]
    },
    {
      "cell_type": "code",
      "execution_count": 90,
      "metadata": {
        "id": "doEB-VOVEUIW"
      },
      "outputs": [],
      "source": [
        "mass_object = test.dtypes[test.dtypes == \"object\"].index.values"
      ]
    },
    {
      "cell_type": "code",
      "execution_count": 91,
      "metadata": {
        "id": "lRKFIzrkEUIX"
      },
      "outputs": [],
      "source": [
        "test = test.drop(mass_object, axis = 1)"
      ]
    },
    {
      "cell_type": "code",
      "execution_count": 92,
      "metadata": {
        "id": "nHwCxfT8EUIX"
      },
      "outputs": [],
      "source": [
        "mass_null = test.dtypes[test.isnull().sum() != 0].index.values"
      ]
    },
    {
      "cell_type": "code",
      "execution_count": 93,
      "metadata": {
        "colab": {
          "base_uri": "https://localhost:8080/"
        },
        "id": "QjVMYxiQEUIX",
        "outputId": "8a65e7b5-b3b3-4cb4-9199-c4a11e390dd5"
      },
      "outputs": [
        {
          "output_type": "execute_result",
          "data": {
            "text/plain": [
              "array(['spent_time_total', 'spent_time_to_complete_hw', 'completed_hw',\n",
              "       'failed_hw', 'reworked_hw', 'interacted_hw', 'avg_hw_mark',\n",
              "       'test_with_good_mark', 'test_with_great_mark', 'webinars',\n",
              "       'avg_quiz_result', 'notes', 'hw_leader', 'lessons', 'activity',\n",
              "       'bought_avg_duration', 'speed_recall', 'm_avg_talk_duration',\n",
              "       'm_avg_duration', 'm_missed_calls', 'm_total_calls',\n",
              "       'm_was_conversations', 'm_total_duration', 'p_avg_talk_duration',\n",
              "       'p_avg_duration', 'p_missed_calls', 'p_total_calls',\n",
              "       'p_was_conversations', 'p_total_duration', 'support_feedback_avg',\n",
              "       'feedback_avg_d1', 'feedback_avg_d2', 'feedback_avg_d3',\n",
              "       'feedback_avg_d4', 'feedback_avg_d5'], dtype=object)"
            ]
          },
          "metadata": {},
          "execution_count": 93
        }
      ],
      "source": [
        "mass_null"
      ]
    },
    {
      "cell_type": "code",
      "execution_count": 94,
      "metadata": {
        "id": "NYW--FHOEUIX"
      },
      "outputs": [],
      "source": [
        "test = test.drop(mass_null, axis = 1)"
      ]
    },
    {
      "cell_type": "code",
      "execution_count": 95,
      "metadata": {
        "id": "WfkQ_JGsEUIX"
      },
      "outputs": [],
      "source": [
        "test = test.drop(['month_id', 'carts_created_at'], axis = 1)"
      ]
    },
    {
      "cell_type": "code",
      "execution_count": 96,
      "metadata": {
        "colab": {
          "base_uri": "https://localhost:8080/"
        },
        "id": "4E1mD7iWEUIX",
        "outputId": "60427ceb-980b-4c84-89a3-ad0a0ca6e7f2"
      },
      "outputs": [
        {
          "output_type": "execute_result",
          "data": {
            "text/plain": [
              "(84997, 23)"
            ]
          },
          "metadata": {},
          "execution_count": 96
        }
      ],
      "source": [
        "test.shape"
      ]
    },
    {
      "cell_type": "code",
      "source": [
        "X.info()"
      ],
      "metadata": {
        "colab": {
          "base_uri": "https://localhost:8080/"
        },
        "id": "67KhKxONXTID",
        "outputId": "3562fe83-db4f-4572-a33f-a5706ebd79ec"
      },
      "execution_count": 97,
      "outputs": [
        {
          "output_type": "stream",
          "name": "stdout",
          "text": [
            "<class 'pandas.core.frame.DataFrame'>\n",
            "RangeIndex: 200000 entries, 0 to 199999\n",
            "Data columns (total 23 columns):\n",
            " #   Column                 Non-Null Count   Dtype  \n",
            "---  ------                 --------------   -----  \n",
            " 0   id                     200000 non-null  int64  \n",
            " 1   age_indicator          200000 non-null  float64\n",
            " 2   student_id             200000 non-null  int64  \n",
            " 3   program_id             200000 non-null  int64  \n",
            " 4   bought_d1              200000 non-null  int64  \n",
            " 5   bought_d2              200000 non-null  int64  \n",
            " 6   bought_d3              200000 non-null  int64  \n",
            " 7   bought_d4              200000 non-null  int64  \n",
            " 8   bought_d5              200000 non-null  int64  \n",
            " 9   payment_type           200000 non-null  int64  \n",
            " 10  promo                  200000 non-null  int64  \n",
            " 11  price                  200000 non-null  float64\n",
            " 12  communication_type     200000 non-null  int64  \n",
            " 13  auto_payment           200000 non-null  int64  \n",
            " 14  ABC                    200000 non-null  int64  \n",
            " 15  gender                 200000 non-null  float64\n",
            " 16  days                   200000 non-null  int16  \n",
            " 17  MM_id                  200000 non-null  int64  \n",
            " 18  year                   200000 non-null  int64  \n",
            " 19  MM_carts_created       200000 non-null  int64  \n",
            " 20  year_carts_created_at  200000 non-null  int64  \n",
            " 21  w_id                   200000 non-null  int64  \n",
            " 22  w_carts                200000 non-null  int64  \n",
            "dtypes: float64(3), int16(1), int64(19)\n",
            "memory usage: 34.0 MB\n"
          ]
        }
      ]
    },
    {
      "cell_type": "code",
      "execution_count": 98,
      "metadata": {
        "colab": {
          "base_uri": "https://localhost:8080/"
        },
        "id": "zXerIz7-EUIX",
        "outputId": "9ca3b014-ae15-4dba-a960-42e9ad3da450"
      },
      "outputs": [
        {
          "output_type": "stream",
          "name": "stdout",
          "text": [
            "<class 'pandas.core.frame.DataFrame'>\n",
            "RangeIndex: 84997 entries, 0 to 84996\n",
            "Data columns (total 23 columns):\n",
            " #   Column                 Non-Null Count  Dtype  \n",
            "---  ------                 --------------  -----  \n",
            " 0   id                     84997 non-null  int64  \n",
            " 1   age_indicator          84997 non-null  float64\n",
            " 2   student_id             84997 non-null  int64  \n",
            " 3   program_id             84997 non-null  int64  \n",
            " 4   bought_d1              84997 non-null  int64  \n",
            " 5   bought_d2              84997 non-null  int64  \n",
            " 6   bought_d3              84997 non-null  int64  \n",
            " 7   bought_d4              84997 non-null  int64  \n",
            " 8   bought_d5              84997 non-null  int64  \n",
            " 9   payment_type           84997 non-null  int64  \n",
            " 10  promo                  84997 non-null  int64  \n",
            " 11  price                  84997 non-null  float64\n",
            " 12  communication_type     84997 non-null  int64  \n",
            " 13  auto_payment           84997 non-null  int64  \n",
            " 14  ABC                    84997 non-null  int64  \n",
            " 15  gender                 84997 non-null  float64\n",
            " 16  days                   84997 non-null  int16  \n",
            " 17  MM_id                  84997 non-null  int64  \n",
            " 18  year                   84997 non-null  int64  \n",
            " 19  MM_carts_created       84997 non-null  int64  \n",
            " 20  year_carts_created_at  84997 non-null  int64  \n",
            " 21  w_id                   84997 non-null  int64  \n",
            " 22  w_carts                84997 non-null  int64  \n",
            "dtypes: float64(3), int16(1), int64(19)\n",
            "memory usage: 14.4 MB\n"
          ]
        }
      ],
      "source": [
        "test.info()"
      ]
    },
    {
      "cell_type": "code",
      "execution_count": 99,
      "metadata": {
        "id": "iZxBweUYRAty"
      },
      "outputs": [],
      "source": [
        "mass_object = test.dtypes[test.dtypes == \"object\"].index.values"
      ]
    },
    {
      "cell_type": "code",
      "execution_count": 100,
      "metadata": {
        "colab": {
          "base_uri": "https://localhost:8080/"
        },
        "id": "q3hT8CiZSAqv",
        "outputId": "01139673-df38-4ec7-daa1-9af37de07f5a"
      },
      "outputs": [
        {
          "output_type": "execute_result",
          "data": {
            "text/plain": [
              "array([], dtype=object)"
            ]
          },
          "metadata": {},
          "execution_count": 100
        }
      ],
      "source": [
        "mass_object"
      ]
    },
    {
      "cell_type": "code",
      "execution_count": 101,
      "metadata": {
        "id": "FmP6Z2ntRAtz"
      },
      "outputs": [],
      "source": [
        "# mass_object = np.append(mass_object)"
      ]
    },
    {
      "cell_type": "code",
      "execution_count": 102,
      "metadata": {
        "id": "zXwdbRrJRAt1"
      },
      "outputs": [],
      "source": [
        "test = test.drop(mass_object, axis = 1)\n"
      ]
    },
    {
      "cell_type": "code",
      "execution_count": 103,
      "metadata": {
        "colab": {
          "base_uri": "https://localhost:8080/"
        },
        "id": "pKJ6hOFbRxPe",
        "outputId": "0a09da64-71e7-4a59-b1ae-e63ddee212e5"
      },
      "outputs": [
        {
          "output_type": "stream",
          "name": "stdout",
          "text": [
            "<class 'pandas.core.frame.DataFrame'>\n",
            "RangeIndex: 84997 entries, 0 to 84996\n",
            "Data columns (total 23 columns):\n",
            " #   Column                 Non-Null Count  Dtype  \n",
            "---  ------                 --------------  -----  \n",
            " 0   id                     84997 non-null  int64  \n",
            " 1   age_indicator          84997 non-null  float64\n",
            " 2   student_id             84997 non-null  int64  \n",
            " 3   program_id             84997 non-null  int64  \n",
            " 4   bought_d1              84997 non-null  int64  \n",
            " 5   bought_d2              84997 non-null  int64  \n",
            " 6   bought_d3              84997 non-null  int64  \n",
            " 7   bought_d4              84997 non-null  int64  \n",
            " 8   bought_d5              84997 non-null  int64  \n",
            " 9   payment_type           84997 non-null  int64  \n",
            " 10  promo                  84997 non-null  int64  \n",
            " 11  price                  84997 non-null  float64\n",
            " 12  communication_type     84997 non-null  int64  \n",
            " 13  auto_payment           84997 non-null  int64  \n",
            " 14  ABC                    84997 non-null  int64  \n",
            " 15  gender                 84997 non-null  float64\n",
            " 16  days                   84997 non-null  int16  \n",
            " 17  MM_id                  84997 non-null  int64  \n",
            " 18  year                   84997 non-null  int64  \n",
            " 19  MM_carts_created       84997 non-null  int64  \n",
            " 20  year_carts_created_at  84997 non-null  int64  \n",
            " 21  w_id                   84997 non-null  int64  \n",
            " 22  w_carts                84997 non-null  int64  \n",
            "dtypes: float64(3), int16(1), int64(19)\n",
            "memory usage: 14.4 MB\n"
          ]
        }
      ],
      "source": [
        "test.info()"
      ]
    },
    {
      "cell_type": "markdown",
      "metadata": {
        "id": "X7JNn9eNdiTa"
      },
      "source": [
        "# pred"
      ]
    },
    {
      "cell_type": "code",
      "execution_count": 105,
      "metadata": {
        "id": "5aeWovD0d-Zu"
      },
      "outputs": [],
      "source": [
        "pred = gcv.predict(test)"
      ]
    },
    {
      "cell_type": "code",
      "execution_count": 106,
      "metadata": {
        "id": "PslSukgvRABG"
      },
      "outputs": [],
      "source": [
        "# pred = clf.predict(test)"
      ]
    },
    {
      "cell_type": "code",
      "execution_count": 107,
      "metadata": {
        "id": "kvp3f4JRVBDk"
      },
      "outputs": [],
      "source": [
        "test = test.set_index('id')"
      ]
    },
    {
      "cell_type": "code",
      "execution_count": 108,
      "metadata": {
        "id": "zuZuiDvvSd02"
      },
      "outputs": [],
      "source": [
        "submit = test[[]]"
      ]
    },
    {
      "cell_type": "code",
      "execution_count": 109,
      "metadata": {
        "colab": {
          "base_uri": "https://localhost:8080/"
        },
        "id": "7j1HQgsWRAFF",
        "outputId": "543f3a1a-dbed-497c-c7bb-214d204bb37f"
      },
      "outputs": [
        {
          "output_type": "stream",
          "name": "stderr",
          "text": [
            "/usr/local/lib/python3.7/dist-packages/ipykernel_launcher.py:1: SettingWithCopyWarning: \n",
            "A value is trying to be set on a copy of a slice from a DataFrame.\n",
            "Try using .loc[row_indexer,col_indexer] = value instead\n",
            "\n",
            "See the caveats in the documentation: https://pandas.pydata.org/pandas-docs/stable/user_guide/indexing.html#returning-a-view-versus-a-copy\n",
            "  \"\"\"Entry point for launching an IPython kernel.\n"
          ]
        }
      ],
      "source": [
        "submit['target'] = pred"
      ]
    },
    {
      "cell_type": "code",
      "execution_count": 110,
      "metadata": {
        "id": "kZXfa_MfSwd6"
      },
      "outputs": [],
      "source": [
        "submit.to_csv('submit_netodolog.csv',  index=True)"
      ]
    },
    {
      "cell_type": "code",
      "source": [
        "submit['target'].value_counts()"
      ],
      "metadata": {
        "colab": {
          "base_uri": "https://localhost:8080/"
        },
        "id": "ZPncpsl2czaQ",
        "outputId": "8238eb0a-5cd1-4f49-d7c5-1f555b3b3abd"
      },
      "execution_count": 111,
      "outputs": [
        {
          "output_type": "execute_result",
          "data": {
            "text/plain": [
              "0    73950\n",
              "1     5844\n",
              "5     1538\n",
              "4     1537\n",
              "3     1374\n",
              "2      754\n",
              "Name: target, dtype: int64"
            ]
          },
          "metadata": {},
          "execution_count": 111
        }
      ]
    }
  ],
  "metadata": {
    "colab": {
      "collapsed_sections": [
        "qb_ajqWXuguV",
        "j9KIyteOQKZh"
      ],
      "name": "Итог\"Score = 0.867095_Нетология_baseline.ipynb\"",
      "provenance": [],
      "include_colab_link": true
    },
    "kernelspec": {
      "display_name": "Python 3",
      "name": "python3"
    },
    "language_info": {
      "name": "python"
    }
  },
  "nbformat": 4,
  "nbformat_minor": 0
}